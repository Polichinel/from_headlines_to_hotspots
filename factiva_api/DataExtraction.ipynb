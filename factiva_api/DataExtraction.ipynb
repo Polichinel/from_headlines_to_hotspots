{
 "cells": [
  {
   "cell_type": "markdown",
   "id": "487b4777-9981-4de5-a440-916ee4af0513",
   "metadata": {},
   "source": [
    "# Snapshot Extraction\n",
    "\n",
    "This notebook shows how to run a Snapshot Explain operation with the minimal steps and a simple query.\n",
    "\n",
    "In this notebook...\n",
    "* [Dependencies and Initialisation](#dependencies-and-initialisation)\n",
    "* [The Where Statement](#the-where-statement)\n",
    "* [Extraction Query Options](#extraction-query-options)\n",
    "* [Running the Extraction Operation](#running-the-extraction-operation-decremental)\n",
    "* [Next Steps](#Next-Steps)"
   ]
  },
  {
   "cell_type": "markdown",
   "id": "fd55c3bc-ffc6-4634-923f-aa8aee26d7d0",
   "metadata": {},
   "source": [
    "## Dependencies and Initialisation\n",
    "Import statements and environment initialisation using the package `dotenv`. More details in the [Configuration notebook](0.2_configuration.ipynb)."
   ]
  },
  {
   "cell_type": "code",
   "execution_count": 1,
   "id": "7535aef1-faff-4eb1-b798-4d453468d498",
   "metadata": {},
   "outputs": [
    {
     "name": "stdout",
     "output_type": "stream",
     "text": [
      "Done!\n"
     ]
    }
   ],
   "source": [
    "from factiva.news import Snapshot\n",
    "from dotenv import load_dotenv\n",
    "load_dotenv()\n",
    "print('Done!')"
   ]
  },
  {
   "cell_type": "markdown",
   "id": "0273c8a9-6bb6-447b-abaf-b81a87f6511d",
   "metadata": {},
   "source": [
    "## The Where Statement\n",
    "\n",
    "This notebook uses a simple query for illustration purposes. For more tips about queries, or guidance on how to build complex or large queries, checkout the [query reference](2.1_complex_large_queries.ipynb) notebook."
   ]
  },
  {
   "cell_type": "code",
   "execution_count": 6,
   "id": "1816e3a2-9258-4d4d-a737-a1fd1e45fd31",
   "metadata": {},
   "outputs": [],
   "source": [
    "where_statement = \"\"\"\n",
    "       REGEXP_CONTAINS(CONCAT(title, ' ', IFNULL(snippet, ''), ' ', IFNULL(body, '')), r'(?i)(\\\\b)(kill\\\\w{0,}|skirmis\\\\w{0,}|attack\\\\w{0,}|fight\\\\w{0,}|bomb\\\\w{0,}|explod\\\\w{0,}|clash\\\\w{0,}|explos\\\\w{0,}|die\\\\w{0,}|injur\\\\w{0,}|dead\\\\w{0,}|death\\\\w{0,}|wounded|massacre\\\\w{0,})(\\\\b)')\n",
    "       AND language_code='en' \n",
    "       AND publication_date  >= '2015-01-01 00:00:00' \n",
    "       AND LOWER(source_code) IN \n",
    "             ('aprs','lba','xnews','afpr','afnws','ajazen','bbcsup',\n",
    "             'bbcapp','bbcmep','bbceup','bbcap','bbcca',\n",
    "             'bbcmnf','bbcmap','bbcukb','bbcukb','bbcsap',\n",
    "             'bbccau','bbcmm')\n",
    "       AND \n",
    "       REGEXP_CONTAINS(region_codes, r'(?i)(^|,)(africaz|asiaz|apacz|ausnz|balkz|baltst|caribz|ceafrz|camz|casiaz|eeurz|ussrz|dvpcoz|eafrz|easiaz|eecz|indochz|lamz|medz|meastz|nafrz|pacisz|samz|sasiaz|seasiaz|souafrz|wafrz|wasiaz)($|,)')\n",
    "       AND\n",
    "       REGEXP_CONTAINS(subject_codes, r'(?i)(^|,)(gairf|gdef|gcoup|garmy|gcivds|gdeath|gpol|gdrug|gvote|gglobe|gimm|ghum|gdip|gesanc|gkdnap|gvio|gmurd|gntdis|nsum|gcat|gpir|grisk|grobb|gshoo|gsec|gterr|gtortu|gwar)($|,)')\n",
    "\"\"\"\n",
    "\n",
    "s = Snapshot(query=where_statement)"
   ]
  },
  {
   "cell_type": "code",
   "execution_count": 15,
   "id": "20a7d3f2",
   "metadata": {},
   "outputs": [
    {
     "data": {
      "text/plain": [
       "<class 'factiva.news.snapshot.snapshot.Snapshot'>\n",
       "  |-user_key: <class 'factiva.core.auth.userkey.UserKey'>\n",
       "  |-key = ****************************afc8\n",
       "  |-cloud_token = **Not Fetched**\n",
       "  |-log = <Logger factiva.core.log (DEBUG)>\n",
       "  |-account_name = \n",
       "  |-account_type = \n",
       "  |-active_products = \n",
       "  |-max_allowed_concurrent_extractions = 0\n",
       "  |-max_allowed_extracted_documents = 0\n",
       "  |-max_allowed_extractions = 0\n",
       "  |-currently_running_extractions = 0\n",
       "  |-total_downloaded_bytes = 0\n",
       "  |-total_extracted_documents = 0\n",
       "  |-total_extractions = 0\n",
       "  |-total_stream_instances = 0\n",
       "  |-total_stream_subscriptions = 0\n",
       "  |-enabled_company_identifiers = []\n",
       "  |-remaining_documents = 0\n",
       "  |-remaining_extractions = 0\n",
       "\n",
       "  |-query: <class 'factiva.news.snapshot.query.SnapshotQuery'>\n",
       "  |    |-where: \n",
       "       REGEXP_CONTAINS(CONCAT(title, ' ', IFNULL(snippet, ''), ' ', IFNULL(b...\n",
       "  |    |-...  |    |-limit = 0\n",
       "  |    |-file_format = avro\n",
       "  |    |-frequency = MONTH\n",
       "  |    |-date_field = publication_datetime\n",
       "  |    |-top = 10\n",
       "  |-last_explain_job: <class 'factiva.news.snapshot.jobs.ExplainJob'>\n",
       "  |    |-<Empty>\n",
       "  |-last_analytics_job: <class 'factiva.news.snapshot.jobs.AnalyticsJob'>\n",
       "  |    |-<Empty>\n",
       "  |-last_extraction_job: <class 'factiva.news.snapshot.jobs.ExtractionJob'>\n",
       "  |    |-job_id = yg8rqofw4p\n",
       "  |    |-job_state = JOB_STATE_DONE\n",
       "  |    |-submitted_datetime = 2023-03-30 16:59:32.480932\n",
       "  |    |-link = https://api.dowjones.com/alpha/extractions/documents/dj-synhub-extraction-29edbb6f445d66e7bbbd9ab4331bafc8-yg8rqofw4p\n",
       "  |    |-user_key = <class 'factiva.core.auth.userkey.UserKey'>\n",
       "  |-key = ****************************afc8\n",
       "  |-cloud_token = **Not Fetched**\n",
       "  |-log = <Logger factiva.core.log (DEBUG)>\n",
       "  |-account_name = \n",
       "  |-account_type = \n",
       "  |-active_products = \n",
       "  |-max_allowed_concurrent_extractions = 0\n",
       "  |-max_allowed_extracted_documents = 0\n",
       "  |-max_allowed_extractions = 0\n",
       "  |-currently_running_extractions = 0\n",
       "  |-total_downloaded_bytes = 0\n",
       "  |-total_extracted_documents = 0\n",
       "  |-total_extractions = 0\n",
       "  |-total_stream_instances = 0\n",
       "  |-total_stream_subscriptions = 0\n",
       "  |-enabled_company_identifiers = []\n",
       "  |-remaining_documents = 0\n",
       "  |-remaining_extractions = 0\n",
       "\n",
       "  |    |-files = ['https://api.dowjones.com/alpha/extractions/stream?file=dj-29edbb6f445d66e7bbbd9ab4331bafc8/29edbb6f445d66e7bbbd9ab4331bafc8/format=avro/dj-synhub-extraction-29edbb6f445d66e7bbbd9ab4331bafc8-yg8rqofw4p/part-000000000000.avro', 'https://api.dowjones.com/alpha/extractions/stream?file=dj-29edbb6f445d66e7bbbd9ab4331bafc8/29edbb6f445d66e7bbbd9ab4331bafc8/format=avro/dj-synhub-extraction-29edbb6f445d66e7bbbd9ab4331bafc8-yg8rqofw4p/part-000000000001.avro', 'https://api.dowjones.com/alpha/extractions/stream?file=dj-29edbb6f445d66e7bbbd9ab4331bafc8/29edbb6f445d66e7bbbd9ab4331bafc8/format=avro/dj-synhub-extraction-29edbb6f445d66e7bbbd9ab4331bafc8-yg8rqofw4p/part-000000000002.avro', 'https://api.dowjones.com/alpha/extractions/stream?file=dj-29edbb6f445d66e7bbbd9ab4331bafc8/29edbb6f445d66e7bbbd9ab4331bafc8/format=avro/dj-synhub-extraction-29edbb6f445d66e7bbbd9ab4331bafc8-yg8rqofw4p/part-000000000003.avro', 'https://api.dowjones.com/alpha/extractions/stream?file=dj-29edbb6f445d66e7bbbd9ab4331bafc8/29edbb6f445d66e7bbbd9ab4331bafc8/format=avro/dj-synhub-extraction-29edbb6f445d66e7bbbd9ab4331bafc8-yg8rqofw4p/part-000000000004.avro', 'https://api.dowjones.com/alpha/extractions/stream?file=dj-29edbb6f445d66e7bbbd9ab4331bafc8/29edbb6f445d66e7bbbd9ab4331bafc8/format=avro/dj-synhub-extraction-29edbb6f445d66e7bbbd9ab4331bafc8-yg8rqofw4p/part-000000000005.avro', 'https://api.dowjones.com/alpha/extractions/stream?file=dj-29edbb6f445d66e7bbbd9ab4331bafc8/29edbb6f445d66e7bbbd9ab4331bafc8/format=avro/dj-synhub-extraction-29edbb6f445d66e7bbbd9ab4331bafc8-yg8rqofw4p/part-000000000006.avro', 'https://api.dowjones.com/alpha/extractions/stream?file=dj-29edbb6f445d66e7bbbd9ab4331bafc8/29edbb6f445d66e7bbbd9ab4331bafc8/format=avro/dj-synhub-extraction-29edbb6f445d66e7bbbd9ab4331bafc8-yg8rqofw4p/part-000000000007.avro', 'https://api.dowjones.com/alpha/extractions/stream?file=dj-29edbb6f445d66e7bbbd9ab4331bafc8/29edbb6f445d66e7bbbd9ab4331bafc8/format=avro/dj-synhub-extraction-29edbb6f445d66e7bbbd9ab4331bafc8-yg8rqofw4p/part-000000000008.avro', 'https://api.dowjones.com/alpha/extractions/stream?file=dj-29edbb6f445d66e7bbbd9ab4331bafc8/29edbb6f445d66e7bbbd9ab4331bafc8/format=avro/dj-synhub-extraction-29edbb6f445d66e7bbbd9ab4331bafc8-yg8rqofw4p/part-000000000009.avro', 'https://api.dowjones.com/alpha/extractions/stream?file=dj-29edbb6f445d66e7bbbd9ab4331bafc8/29edbb6f445d66e7bbbd9ab4331bafc8/format=avro/dj-synhub-extraction-29edbb6f445d66e7bbbd9ab4331bafc8-yg8rqofw4p/part-000000000010.avro', 'https://api.dowjones.com/alpha/extractions/stream?file=dj-29edbb6f445d66e7bbbd9ab4331bafc8/29edbb6f445d66e7bbbd9ab4331bafc8/format=avro/dj-synhub-extraction-29edbb6f445d66e7bbbd9ab4331bafc8-yg8rqofw4p/part-000000000011.avro', 'https://api.dowjones.com/alpha/extractions/stream?file=dj-29edbb6f445d66e7bbbd9ab4331bafc8/29edbb6f445d66e7bbbd9ab4331bafc8/format=avro/dj-synhub-extraction-29edbb6f445d66e7bbbd9ab4331bafc8-yg8rqofw4p/part-000000000012.avro', 'https://api.dowjones.com/alpha/extractions/stream?file=dj-29edbb6f445d66e7bbbd9ab4331bafc8/29edbb6f445d66e7bbbd9ab4331bafc8/format=avro/dj-synhub-extraction-29edbb6f445d66e7bbbd9ab4331bafc8-yg8rqofw4p/part-000000000013.avro', 'https://api.dowjones.com/alpha/extractions/stream?file=dj-29edbb6f445d66e7bbbd9ab4331bafc8/29edbb6f445d66e7bbbd9ab4331bafc8/format=avro/dj-synhub-extraction-29edbb6f445d66e7bbbd9ab4331bafc8-yg8rqofw4p/part-000000000014.avro', 'https://api.dowjones.com/alpha/extractions/stream?file=dj-29edbb6f445d66e7bbbd9ab4331bafc8/29edbb6f445d66e7bbbd9ab4331bafc8/format=avro/dj-synhub-extraction-29edbb6f445d66e7bbbd9ab4331bafc8-yg8rqofw4p/part-000000000015.avro', 'https://api.dowjones.com/alpha/extractions/stream?file=dj-29edbb6f445d66e7bbbd9ab4331bafc8/29edbb6f445d66e7bbbd9ab4331bafc8/format=avro/dj-synhub-extraction-29edbb6f445d66e7bbbd9ab4331bafc8-yg8rqofw4p/part-000000000016.avro', 'https://api.dowjones.com/alpha/extractions/stream?file=dj-29edbb6f445d66e7bbbd9ab4331bafc8/29edbb6f445d66e7bbbd9ab4331bafc8/format=avro/dj-synhub-extraction-29edbb6f445d66e7bbbd9ab4331bafc8-yg8rqofw4p/part-000000000017.avro', 'https://api.dowjones.com/alpha/extractions/stream?file=dj-29edbb6f445d66e7bbbd9ab4331bafc8/29edbb6f445d66e7bbbd9ab4331bafc8/format=avro/dj-synhub-extraction-29edbb6f445d66e7bbbd9ab4331bafc8-yg8rqofw4p/part-000000000018.avro', 'https://api.dowjones.com/alpha/extractions/stream?file=dj-29edbb6f445d66e7bbbd9ab4331bafc8/29edbb6f445d66e7bbbd9ab4331bafc8/format=avro/dj-synhub-extraction-29edbb6f445d66e7bbbd9ab4331bafc8-yg8rqofw4p/part-000000000019.avro', 'https://api.dowjones.com/alpha/extractions/stream?file=dj-29edbb6f445d66e7bbbd9ab4331bafc8/29edbb6f445d66e7bbbd9ab4331bafc8/format=avro/dj-synhub-extraction-29edbb6f445d66e7bbbd9ab4331bafc8-yg8rqofw4p/part-000000000020.avro', 'https://api.dowjones.com/alpha/extractions/stream?file=dj-29edbb6f445d66e7bbbd9ab4331bafc8/29edbb6f445d66e7bbbd9ab4331bafc8/format=avro/dj-synhub-extraction-29edbb6f445d66e7bbbd9ab4331bafc8-yg8rqofw4p/part-000000000021.avro', 'https://api.dowjones.com/alpha/extractions/stream?file=dj-29edbb6f445d66e7bbbd9ab4331bafc8/29edbb6f445d66e7bbbd9ab4331bafc8/format=avro/dj-synhub-extraction-29edbb6f445d66e7bbbd9ab4331bafc8-yg8rqofw4p/part-000000000022.avro', 'https://api.dowjones.com/alpha/extractions/stream?file=dj-29edbb6f445d66e7bbbd9ab4331bafc8/29edbb6f445d66e7bbbd9ab4331bafc8/format=avro/dj-synhub-extraction-29edbb6f445d66e7bbbd9ab4331bafc8-yg8rqofw4p/part-000000000023.avro', 'https://api.dowjones.com/alpha/extractions/stream?file=dj-29edbb6f445d66e7bbbd9ab4331bafc8/29edbb6f445d66e7bbbd9ab4331bafc8/format=avro/dj-synhub-extraction-29edbb6f445d66e7bbbd9ab4331bafc8-yg8rqofw4p/part-000000000024.avro', 'https://api.dowjones.com/alpha/extractions/stream?file=dj-29edbb6f445d66e7bbbd9ab4331bafc8/29edbb6f445d66e7bbbd9ab4331bafc8/format=avro/dj-synhub-extraction-29edbb6f445d66e7bbbd9ab4331bafc8-yg8rqofw4p/part-000000000025.avro', 'https://api.dowjones.com/alpha/extractions/stream?file=dj-29edbb6f445d66e7bbbd9ab4331bafc8/29edbb6f445d66e7bbbd9ab4331bafc8/format=avro/dj-synhub-extraction-29edbb6f445d66e7bbbd9ab4331bafc8-yg8rqofw4p/part-000000000026.avro', 'https://api.dowjones.com/alpha/extractions/stream?file=dj-29edbb6f445d66e7bbbd9ab4331bafc8/29edbb6f445d66e7bbbd9ab4331bafc8/format=avro/dj-synhub-extraction-29edbb6f445d66e7bbbd9ab4331bafc8-yg8rqofw4p/part-000000000027.avro', 'https://api.dowjones.com/alpha/extractions/stream?file=dj-29edbb6f445d66e7bbbd9ab4331bafc8/29edbb6f445d66e7bbbd9ab4331bafc8/format=avro/dj-synhub-extraction-29edbb6f445d66e7bbbd9ab4331bafc8-yg8rqofw4p/part-000000000028.avro', 'https://api.dowjones.com/alpha/extractions/stream?file=dj-29edbb6f445d66e7bbbd9ab4331bafc8/29edbb6f445d66e7bbbd9ab4331bafc8/format=avro/dj-synhub-extraction-29edbb6f445d66e7bbbd9ab4331bafc8-yg8rqofw4p/part-000000000029.avro', 'https://api.dowjones.com/alpha/extractions/stream?file=dj-29edbb6f445d66e7bbbd9ab4331bafc8/29edbb6f445d66e7bbbd9ab4331bafc8/format=avro/dj-synhub-extraction-29edbb6f445d66e7bbbd9ab4331bafc8-yg8rqofw4p/part-000000000030.avro', 'https://api.dowjones.com/alpha/extractions/stream?file=dj-29edbb6f445d66e7bbbd9ab4331bafc8/29edbb6f445d66e7bbbd9ab4331bafc8/format=avro/dj-synhub-extraction-29edbb6f445d66e7bbbd9ab4331bafc8-yg8rqofw4p/part-000000000031.avro', 'https://api.dowjones.com/alpha/extractions/stream?file=dj-29edbb6f445d66e7bbbd9ab4331bafc8/29edbb6f445d66e7bbbd9ab4331bafc8/format=avro/dj-synhub-extraction-29edbb6f445d66e7bbbd9ab4331bafc8-yg8rqofw4p/part-000000000032.avro', 'https://api.dowjones.com/alpha/extractions/stream?file=dj-29edbb6f445d66e7bbbd9ab4331bafc8/29edbb6f445d66e7bbbd9ab4331bafc8/format=avro/dj-synhub-extraction-29edbb6f445d66e7bbbd9ab4331bafc8-yg8rqofw4p/part-000000000033.avro', 'https://api.dowjones.com/alpha/extractions/stream?file=dj-29edbb6f445d66e7bbbd9ab4331bafc8/29edbb6f445d66e7bbbd9ab4331bafc8/format=avro/dj-synhub-extraction-29edbb6f445d66e7bbbd9ab4331bafc8-yg8rqofw4p/part-000000000034.avro', 'https://api.dowjones.com/alpha/extractions/stream?file=dj-29edbb6f445d66e7bbbd9ab4331bafc8/29edbb6f445d66e7bbbd9ab4331bafc8/format=avro/dj-synhub-extraction-29edbb6f445d66e7bbbd9ab4331bafc8-yg8rqofw4p/part-000000000035.avro', 'https://api.dowjones.com/alpha/extractions/stream?file=dj-29edbb6f445d66e7bbbd9ab4331bafc8/29edbb6f445d66e7bbbd9ab4331bafc8/format=avro/dj-synhub-extraction-29edbb6f445d66e7bbbd9ab4331bafc8-yg8rqofw4p/part-000000000036.avro', 'https://api.dowjones.com/alpha/extractions/stream?file=dj-29edbb6f445d66e7bbbd9ab4331bafc8/29edbb6f445d66e7bbbd9ab4331bafc8/format=avro/dj-synhub-extraction-29edbb6f445d66e7bbbd9ab4331bafc8-yg8rqofw4p/part-000000000037.avro', 'https://api.dowjones.com/alpha/extractions/stream?file=dj-29edbb6f445d66e7bbbd9ab4331bafc8/29edbb6f445d66e7bbbd9ab4331bafc8/format=avro/dj-synhub-extraction-29edbb6f445d66e7bbbd9ab4331bafc8-yg8rqofw4p/part-000000000038.avro', 'https://api.dowjones.com/alpha/extractions/stream?file=dj-29edbb6f445d66e7bbbd9ab4331bafc8/29edbb6f445d66e7bbbd9ab4331bafc8/format=avro/dj-synhub-extraction-29edbb6f445d66e7bbbd9ab4331bafc8-yg8rqofw4p/part-000000000039.avro', 'https://api.dowjones.com/alpha/extractions/stream?file=dj-29edbb6f445d66e7bbbd9ab4331bafc8/29edbb6f445d66e7bbbd9ab4331bafc8/format=avro/dj-synhub-extraction-29edbb6f445d66e7bbbd9ab4331bafc8-yg8rqofw4p/part-000000000040.avro', 'https://api.dowjones.com/alpha/extractions/stream?file=dj-29edbb6f445d66e7bbbd9ab4331bafc8/29edbb6f445d66e7bbbd9ab4331bafc8/format=avro/dj-synhub-extraction-29edbb6f445d66e7bbbd9ab4331bafc8-yg8rqofw4p/part-000000000041.avro', 'https://api.dowjones.com/alpha/extractions/stream?file=dj-29edbb6f445d66e7bbbd9ab4331bafc8/29edbb6f445d66e7bbbd9ab4331bafc8/format=avro/dj-synhub-extraction-29edbb6f445d66e7bbbd9ab4331bafc8-yg8rqofw4p/part-000000000042.avro', 'https://api.dowjones.com/alpha/extractions/stream?file=dj-29edbb6f445d66e7bbbd9ab4331bafc8/29edbb6f445d66e7bbbd9ab4331bafc8/format=avro/dj-synhub-extraction-29edbb6f445d66e7bbbd9ab4331bafc8-yg8rqofw4p/part-000000000043.avro', 'https://api.dowjones.com/alpha/extractions/stream?file=dj-29edbb6f445d66e7bbbd9ab4331bafc8/29edbb6f445d66e7bbbd9ab4331bafc8/format=avro/dj-synhub-extraction-29edbb6f445d66e7bbbd9ab4331bafc8-yg8rqofw4p/part-000000000044.avro', 'https://api.dowjones.com/alpha/extractions/stream?file=dj-29edbb6f445d66e7bbbd9ab4331bafc8/29edbb6f445d66e7bbbd9ab4331bafc8/format=avro/dj-synhub-extraction-29edbb6f445d66e7bbbd9ab4331bafc8-yg8rqofw4p/part-000000000045.avro', 'https://api.dowjones.com/alpha/extractions/stream?file=dj-29edbb6f445d66e7bbbd9ab4331bafc8/29edbb6f445d66e7bbbd9ab4331bafc8/format=avro/dj-synhub-extraction-29edbb6f445d66e7bbbd9ab4331bafc8-yg8rqofw4p/part-000000000046.avro', 'https://api.dowjones.com/alpha/extractions/stream?file=dj-29edbb6f445d66e7bbbd9ab4331bafc8/29edbb6f445d66e7bbbd9ab4331bafc8/format=avro/dj-synhub-extraction-29edbb6f445d66e7bbbd9ab4331bafc8-yg8rqofw4p/part-000000000047.avro', 'https://api.dowjones.com/alpha/extractions/stream?file=dj-29edbb6f445d66e7bbbd9ab4331bafc8/29edbb6f445d66e7bbbd9ab4331bafc8/format=avro/dj-synhub-extraction-29edbb6f445d66e7bbbd9ab4331bafc8-yg8rqofw4p/part-000000000048.avro', 'https://api.dowjones.com/alpha/extractions/stream?file=dj-29edbb6f445d66e7bbbd9ab4331bafc8/29edbb6f445d66e7bbbd9ab4331bafc8/format=avro/dj-synhub-extraction-29edbb6f445d66e7bbbd9ab4331bafc8-yg8rqofw4p/part-000000000049.avro', 'https://api.dowjones.com/alpha/extractions/stream?file=dj-29edbb6f445d66e7bbbd9ab4331bafc8/29edbb6f445d66e7bbbd9ab4331bafc8/format=avro/dj-synhub-extraction-29edbb6f445d66e7bbbd9ab4331bafc8-yg8rqofw4p/part-000000000050.avro', 'https://api.dowjones.com/alpha/extractions/stream?file=dj-29edbb6f445d66e7bbbd9ab4331bafc8/29edbb6f445d66e7bbbd9ab4331bafc8/format=avro/dj-synhub-extraction-29edbb6f445d66e7bbbd9ab4331bafc8-yg8rqofw4p/part-000000000051.avro', 'https://api.dowjones.com/alpha/extractions/stream?file=dj-29edbb6f445d66e7bbbd9ab4331bafc8/29edbb6f445d66e7bbbd9ab4331bafc8/format=avro/dj-synhub-extraction-29edbb6f445d66e7bbbd9ab4331bafc8-yg8rqofw4p/part-000000000052.avro', 'https://api.dowjones.com/alpha/extractions/stream?file=dj-29edbb6f445d66e7bbbd9ab4331bafc8/29edbb6f445d66e7bbbd9ab4331bafc8/format=avro/dj-synhub-extraction-29edbb6f445d66e7bbbd9ab4331bafc8-yg8rqofw4p/part-000000000053.avro', 'https://api.dowjones.com/alpha/extractions/stream?file=dj-29edbb6f445d66e7bbbd9ab4331bafc8/29edbb6f445d66e7bbbd9ab4331bafc8/format=avro/dj-synhub-extraction-29edbb6f445d66e7bbbd9ab4331bafc8-yg8rqofw4p/part-000000000054.avro', 'https://api.dowjones.com/alpha/extractions/stream?file=dj-29edbb6f445d66e7bbbd9ab4331bafc8/29edbb6f445d66e7bbbd9ab4331bafc8/format=avro/dj-synhub-extraction-29edbb6f445d66e7bbbd9ab4331bafc8-yg8rqofw4p/part-000000000055.avro', 'https://api.dowjones.com/alpha/extractions/stream?file=dj-29edbb6f445d66e7bbbd9ab4331bafc8/29edbb6f445d66e7bbbd9ab4331bafc8/format=avro/dj-synhub-extraction-29edbb6f445d66e7bbbd9ab4331bafc8-yg8rqofw4p/part-000000000056.avro', 'https://api.dowjones.com/alpha/extractions/stream?file=dj-29edbb6f445d66e7bbbd9ab4331bafc8/29edbb6f445d66e7bbbd9ab4331bafc8/format=avro/dj-synhub-extraction-29edbb6f445d66e7bbbd9ab4331bafc8-yg8rqofw4p/part-000000000057.avro', 'https://api.dowjones.com/alpha/extractions/stream?file=dj-29edbb6f445d66e7bbbd9ab4331bafc8/29edbb6f445d66e7bbbd9ab4331bafc8/format=avro/dj-synhub-extraction-29edbb6f445d66e7bbbd9ab4331bafc8-yg8rqofw4p/part-000000000058.avro', 'https://api.dowjones.com/alpha/extractions/stream?file=dj-29edbb6f445d66e7bbbd9ab4331bafc8/29edbb6f445d66e7bbbd9ab4331bafc8/format=avro/dj-synhub-extraction-29edbb6f445d66e7bbbd9ab4331bafc8-yg8rqofw4p/part-000000000059.avro', 'https://api.dowjones.com/alpha/extractions/stream?file=dj-29edbb6f445d66e7bbbd9ab4331bafc8/29edbb6f445d66e7bbbd9ab4331bafc8/format=avro/dj-synhub-extraction-29edbb6f445d66e7bbbd9ab4331bafc8-yg8rqofw4p/part-000000000060.avro', 'https://api.dowjones.com/alpha/extractions/stream?file=dj-29edbb6f445d66e7bbbd9ab4331bafc8/29edbb6f445d66e7bbbd9ab4331bafc8/format=avro/dj-synhub-extraction-29edbb6f445d66e7bbbd9ab4331bafc8-yg8rqofw4p/part-000000000061.avro', 'https://api.dowjones.com/alpha/extractions/stream?file=dj-29edbb6f445d66e7bbbd9ab4331bafc8/29edbb6f445d66e7bbbd9ab4331bafc8/format=avro/dj-synhub-extraction-29edbb6f445d66e7bbbd9ab4331bafc8-yg8rqofw4p/part-000000000062.avro', 'https://api.dowjones.com/alpha/extractions/stream?file=dj-29edbb6f445d66e7bbbd9ab4331bafc8/29edbb6f445d66e7bbbd9ab4331bafc8/format=avro/dj-synhub-extraction-29edbb6f445d66e7bbbd9ab4331bafc8-yg8rqofw4p/part-000000000063.avro', 'https://api.dowjones.com/alpha/extractions/stream?file=dj-29edbb6f445d66e7bbbd9ab4331bafc8/29edbb6f445d66e7bbbd9ab4331bafc8/format=avro/dj-synhub-extraction-29edbb6f445d66e7bbbd9ab4331bafc8-yg8rqofw4p/part-000000000064.avro', 'https://api.dowjones.com/alpha/extractions/stream?file=dj-29edbb6f445d66e7bbbd9ab4331bafc8/29edbb6f445d66e7bbbd9ab4331bafc8/format=avro/dj-synhub-extraction-29edbb6f445d66e7bbbd9ab4331bafc8-yg8rqofw4p/part-000000000065.avro', 'https://api.dowjones.com/alpha/extractions/stream?file=dj-29edbb6f445d66e7bbbd9ab4331bafc8/29edbb6f445d66e7bbbd9ab4331bafc8/format=avro/dj-synhub-extraction-29edbb6f445d66e7bbbd9ab4331bafc8-yg8rqofw4p/part-000000000066.avro', 'https://api.dowjones.com/alpha/extractions/stream?file=dj-29edbb6f445d66e7bbbd9ab4331bafc8/29edbb6f445d66e7bbbd9ab4331bafc8/format=avro/dj-synhub-extraction-29edbb6f445d66e7bbbd9ab4331bafc8-yg8rqofw4p/part-000000000067.avro', 'https://api.dowjones.com/alpha/extractions/stream?file=dj-29edbb6f445d66e7bbbd9ab4331bafc8/29edbb6f445d66e7bbbd9ab4331bafc8/format=avro/dj-synhub-extraction-29edbb6f445d66e7bbbd9ab4331bafc8-yg8rqofw4p/part-000000000068.avro', 'https://api.dowjones.com/alpha/extractions/stream?file=dj-29edbb6f445d66e7bbbd9ab4331bafc8/29edbb6f445d66e7bbbd9ab4331bafc8/format=avro/dj-synhub-extraction-29edbb6f445d66e7bbbd9ab4331bafc8-yg8rqofw4p/part-000000000069.avro', 'https://api.dowjones.com/alpha/extractions/stream?file=dj-29edbb6f445d66e7bbbd9ab4331bafc8/29edbb6f445d66e7bbbd9ab4331bafc8/format=avro/dj-synhub-extraction-29edbb6f445d66e7bbbd9ab4331bafc8-yg8rqofw4p/part-000000000070.avro', 'https://api.dowjones.com/alpha/extractions/stream?file=dj-29edbb6f445d66e7bbbd9ab4331bafc8/29edbb6f445d66e7bbbd9ab4331bafc8/format=avro/dj-synhub-extraction-29edbb6f445d66e7bbbd9ab4331bafc8-yg8rqofw4p/part-000000000071.avro', 'https://api.dowjones.com/alpha/extractions/stream?file=dj-29edbb6f445d66e7bbbd9ab4331bafc8/29edbb6f445d66e7bbbd9ab4331bafc8/format=avro/dj-synhub-extraction-29edbb6f445d66e7bbbd9ab4331bafc8-yg8rqofw4p/part-000000000072.avro', 'https://api.dowjones.com/alpha/extractions/stream?file=dj-29edbb6f445d66e7bbbd9ab4331bafc8/29edbb6f445d66e7bbbd9ab4331bafc8/format=avro/dj-synhub-extraction-29edbb6f445d66e7bbbd9ab4331bafc8-yg8rqofw4p/part-000000000073.avro', 'https://api.dowjones.com/alpha/extractions/stream?file=dj-29edbb6f445d66e7bbbd9ab4331bafc8/29edbb6f445d66e7bbbd9ab4331bafc8/format=avro/dj-synhub-extraction-29edbb6f445d66e7bbbd9ab4331bafc8-yg8rqofw4p/part-000000000074.avro', 'https://api.dowjones.com/alpha/extractions/stream?file=dj-29edbb6f445d66e7bbbd9ab4331bafc8/29edbb6f445d66e7bbbd9ab4331bafc8/format=avro/dj-synhub-extraction-29edbb6f445d66e7bbbd9ab4331bafc8-yg8rqofw4p/part-000000000075.avro', 'https://api.dowjones.com/alpha/extractions/stream?file=dj-29edbb6f445d66e7bbbd9ab4331bafc8/29edbb6f445d66e7bbbd9ab4331bafc8/format=avro/dj-synhub-extraction-29edbb6f445d66e7bbbd9ab4331bafc8-yg8rqofw4p/part-000000000076.avro', 'https://api.dowjones.com/alpha/extractions/stream?file=dj-29edbb6f445d66e7bbbd9ab4331bafc8/29edbb6f445d66e7bbbd9ab4331bafc8/format=avro/dj-synhub-extraction-29edbb6f445d66e7bbbd9ab4331bafc8-yg8rqofw4p/part-000000000077.avro', 'https://api.dowjones.com/alpha/extractions/stream?file=dj-29edbb6f445d66e7bbbd9ab4331bafc8/29edbb6f445d66e7bbbd9ab4331bafc8/format=avro/dj-synhub-extraction-29edbb6f445d66e7bbbd9ab4331bafc8-yg8rqofw4p/part-000000000078.avro', 'https://api.dowjones.com/alpha/extractions/stream?file=dj-29edbb6f445d66e7bbbd9ab4331bafc8/29edbb6f445d66e7bbbd9ab4331bafc8/format=avro/dj-synhub-extraction-29edbb6f445d66e7bbbd9ab4331bafc8-yg8rqofw4p/part-000000000079.avro', 'https://api.dowjones.com/alpha/extractions/stream?file=dj-29edbb6f445d66e7bbbd9ab4331bafc8/29edbb6f445d66e7bbbd9ab4331bafc8/format=avro/dj-synhub-extraction-29edbb6f445d66e7bbbd9ab4331bafc8-yg8rqofw4p/part-000000000080.avro', 'https://api.dowjones.com/alpha/extractions/stream?file=dj-29edbb6f445d66e7bbbd9ab4331bafc8/29edbb6f445d66e7bbbd9ab4331bafc8/format=avro/dj-synhub-extraction-29edbb6f445d66e7bbbd9ab4331bafc8-yg8rqofw4p/part-000000000081.avro', 'https://api.dowjones.com/alpha/extractions/stream?file=dj-29edbb6f445d66e7bbbd9ab4331bafc8/29edbb6f445d66e7bbbd9ab4331bafc8/format=avro/dj-synhub-extraction-29edbb6f445d66e7bbbd9ab4331bafc8-yg8rqofw4p/part-000000000082.avro', 'https://api.dowjones.com/alpha/extractions/stream?file=dj-29edbb6f445d66e7bbbd9ab4331bafc8/29edbb6f445d66e7bbbd9ab4331bafc8/format=avro/dj-synhub-extraction-29edbb6f445d66e7bbbd9ab4331bafc8-yg8rqofw4p/part-000000000083.avro', 'https://api.dowjones.com/alpha/extractions/stream?file=dj-29edbb6f445d66e7bbbd9ab4331bafc8/29edbb6f445d66e7bbbd9ab4331bafc8/format=avro/dj-synhub-extraction-29edbb6f445d66e7bbbd9ab4331bafc8-yg8rqofw4p/part-000000000084.avro', 'https://api.dowjones.com/alpha/extractions/stream?file=dj-29edbb6f445d66e7bbbd9ab4331bafc8/29edbb6f445d66e7bbbd9ab4331bafc8/format=avro/dj-synhub-extraction-29edbb6f445d66e7bbbd9ab4331bafc8-yg8rqofw4p/part-000000000085.avro', 'https://api.dowjones.com/alpha/extractions/stream?file=dj-29edbb6f445d66e7bbbd9ab4331bafc8/29edbb6f445d66e7bbbd9ab4331bafc8/format=avro/dj-synhub-extraction-29edbb6f445d66e7bbbd9ab4331bafc8-yg8rqofw4p/part-000000000086.avro', 'https://api.dowjones.com/alpha/extractions/stream?file=dj-29edbb6f445d66e7bbbd9ab4331bafc8/29edbb6f445d66e7bbbd9ab4331bafc8/format=avro/dj-synhub-extraction-29edbb6f445d66e7bbbd9ab4331bafc8-yg8rqofw4p/part-000000000087.avro', 'https://api.dowjones.com/alpha/extractions/stream?file=dj-29edbb6f445d66e7bbbd9ab4331bafc8/29edbb6f445d66e7bbbd9ab4331bafc8/format=avro/dj-synhub-extraction-29edbb6f445d66e7bbbd9ab4331bafc8-yg8rqofw4p/part-000000000088.avro', 'https://api.dowjones.com/alpha/extractions/stream?file=dj-29edbb6f445d66e7bbbd9ab4331bafc8/29edbb6f445d66e7bbbd9ab4331bafc8/format=avro/dj-synhub-extraction-29edbb6f445d66e7bbbd9ab4331bafc8-yg8rqofw4p/part-000000000089.avro', 'https://api.dowjones.com/alpha/extractions/stream?file=dj-29edbb6f445d66e7bbbd9ab4331bafc8/29edbb6f445d66e7bbbd9ab4331bafc8/format=avro/dj-synhub-extraction-29edbb6f445d66e7bbbd9ab4331bafc8-yg8rqofw4p/part-000000000090.avro', 'https://api.dowjones.com/alpha/extractions/stream?file=dj-29edbb6f445d66e7bbbd9ab4331bafc8/29edbb6f445d66e7bbbd9ab4331bafc8/format=avro/dj-synhub-extraction-29edbb6f445d66e7bbbd9ab4331bafc8-yg8rqofw4p/part-000000000091.avro', 'https://api.dowjones.com/alpha/extractions/stream?file=dj-29edbb6f445d66e7bbbd9ab4331bafc8/29edbb6f445d66e7bbbd9ab4331bafc8/format=avro/dj-synhub-extraction-29edbb6f445d66e7bbbd9ab4331bafc8-yg8rqofw4p/part-000000000092.avro', 'https://api.dowjones.com/alpha/extractions/stream?file=dj-29edbb6f445d66e7bbbd9ab4331bafc8/29edbb6f445d66e7bbbd9ab4331bafc8/format=avro/dj-synhub-extraction-29edbb6f445d66e7bbbd9ab4331bafc8-yg8rqofw4p/part-000000000093.avro', 'https://api.dowjones.com/alpha/extractions/stream?file=dj-29edbb6f445d66e7bbbd9ab4331bafc8/29edbb6f445d66e7bbbd9ab4331bafc8/format=avro/dj-synhub-extraction-29edbb6f445d66e7bbbd9ab4331bafc8-yg8rqofw4p/part-000000000094.avro', 'https://api.dowjones.com/alpha/extractions/stream?file=dj-29edbb6f445d66e7bbbd9ab4331bafc8/29edbb6f445d66e7bbbd9ab4331bafc8/format=avro/dj-synhub-extraction-29edbb6f445d66e7bbbd9ab4331bafc8-yg8rqofw4p/part-000000000095.avro', 'https://api.dowjones.com/alpha/extractions/stream?file=dj-29edbb6f445d66e7bbbd9ab4331bafc8/29edbb6f445d66e7bbbd9ab4331bafc8/format=avro/dj-synhub-extraction-29edbb6f445d66e7bbbd9ab4331bafc8-yg8rqofw4p/part-000000000096.avro', 'https://api.dowjones.com/alpha/extractions/stream?file=dj-29edbb6f445d66e7bbbd9ab4331bafc8/29edbb6f445d66e7bbbd9ab4331bafc8/format=avro/dj-synhub-extraction-29edbb6f445d66e7bbbd9ab4331bafc8-yg8rqofw4p/part-000000000097.avro', 'https://api.dowjones.com/alpha/extractions/stream?file=dj-29edbb6f445d66e7bbbd9ab4331bafc8/29edbb6f445d66e7bbbd9ab4331bafc8/format=avro/dj-synhub-extraction-29edbb6f445d66e7bbbd9ab4331bafc8-yg8rqofw4p/part-000000000098.avro', 'https://api.dowjones.com/alpha/extractions/stream?file=dj-29edbb6f445d66e7bbbd9ab4331bafc8/29edbb6f445d66e7bbbd9ab4331bafc8/format=avro/dj-synhub-extraction-29edbb6f445d66e7bbbd9ab4331bafc8-yg8rqofw4p/part-000000000099.avro', 'https://api.dowjones.com/alpha/extractions/stream?file=dj-29edbb6f445d66e7bbbd9ab4331bafc8/29edbb6f445d66e7bbbd9ab4331bafc8/format=avro/dj-synhub-extraction-29edbb6f445d66e7bbbd9ab4331bafc8-yg8rqofw4p/part-000000000100.avro', 'https://api.dowjones.com/alpha/extractions/stream?file=dj-29edbb6f445d66e7bbbd9ab4331bafc8/29edbb6f445d66e7bbbd9ab4331bafc8/format=avro/dj-synhub-extraction-29edbb6f445d66e7bbbd9ab4331bafc8-yg8rqofw4p/part-000000000101.avro', 'https://api.dowjones.com/alpha/extractions/stream?file=dj-29edbb6f445d66e7bbbd9ab4331bafc8/29edbb6f445d66e7bbbd9ab4331bafc8/format=avro/dj-synhub-extraction-29edbb6f445d66e7bbbd9ab4331bafc8-yg8rqofw4p/part-000000000102.avro', 'https://api.dowjones.com/alpha/extractions/stream?file=dj-29edbb6f445d66e7bbbd9ab4331bafc8/29edbb6f445d66e7bbbd9ab4331bafc8/format=avro/dj-synhub-extraction-29edbb6f445d66e7bbbd9ab4331bafc8-yg8rqofw4p/part-000000000103.avro', 'https://api.dowjones.com/alpha/extractions/stream?file=dj-29edbb6f445d66e7bbbd9ab4331bafc8/29edbb6f445d66e7bbbd9ab4331bafc8/format=avro/dj-synhub-extraction-29edbb6f445d66e7bbbd9ab4331bafc8-yg8rqofw4p/part-000000000104.avro', 'https://api.dowjones.com/alpha/extractions/stream?file=dj-29edbb6f445d66e7bbbd9ab4331bafc8/29edbb6f445d66e7bbbd9ab4331bafc8/format=avro/dj-synhub-extraction-29edbb6f445d66e7bbbd9ab4331bafc8-yg8rqofw4p/part-000000000105.avro', 'https://api.dowjones.com/alpha/extractions/stream?file=dj-29edbb6f445d66e7bbbd9ab4331bafc8/29edbb6f445d66e7bbbd9ab4331bafc8/format=avro/dj-synhub-extraction-29edbb6f445d66e7bbbd9ab4331bafc8-yg8rqofw4p/part-000000000106.avro', 'https://api.dowjones.com/alpha/extractions/stream?file=dj-29edbb6f445d66e7bbbd9ab4331bafc8/29edbb6f445d66e7bbbd9ab4331bafc8/format=avro/dj-synhub-extraction-29edbb6f445d66e7bbbd9ab4331bafc8-yg8rqofw4p/part-000000000107.avro', 'https://api.dowjones.com/alpha/extractions/stream?file=dj-29edbb6f445d66e7bbbd9ab4331bafc8/29edbb6f445d66e7bbbd9ab4331bafc8/format=avro/dj-synhub-extraction-29edbb6f445d66e7bbbd9ab4331bafc8-yg8rqofw4p/part-000000000108.avro', 'https://api.dowjones.com/alpha/extractions/stream?file=dj-29edbb6f445d66e7bbbd9ab4331bafc8/29edbb6f445d66e7bbbd9ab4331bafc8/format=avro/dj-synhub-extraction-29edbb6f445d66e7bbbd9ab4331bafc8-yg8rqofw4p/part-000000000109.avro', 'https://api.dowjones.com/alpha/extractions/stream?file=dj-29edbb6f445d66e7bbbd9ab4331bafc8/29edbb6f445d66e7bbbd9ab4331bafc8/format=avro/dj-synhub-extraction-29edbb6f445d66e7bbbd9ab4331bafc8-yg8rqofw4p/part-000000000110.avro', 'https://api.dowjones.com/alpha/extractions/stream?file=dj-29edbb6f445d66e7bbbd9ab4331bafc8/29edbb6f445d66e7bbbd9ab4331bafc8/format=avro/dj-synhub-extraction-29edbb6f445d66e7bbbd9ab4331bafc8-yg8rqofw4p/part-000000000111.avro', 'https://api.dowjones.com/alpha/extractions/stream?file=dj-29edbb6f445d66e7bbbd9ab4331bafc8/29edbb6f445d66e7bbbd9ab4331bafc8/format=avro/dj-synhub-extraction-29edbb6f445d66e7bbbd9ab4331bafc8-yg8rqofw4p/part-000000000112.avro', 'https://api.dowjones.com/alpha/extractions/stream?file=dj-29edbb6f445d66e7bbbd9ab4331bafc8/29edbb6f445d66e7bbbd9ab4331bafc8/format=avro/dj-synhub-extraction-29edbb6f445d66e7bbbd9ab4331bafc8-yg8rqofw4p/part-000000000113.avro', 'https://api.dowjones.com/alpha/extractions/stream?file=dj-29edbb6f445d66e7bbbd9ab4331bafc8/29edbb6f445d66e7bbbd9ab4331bafc8/format=avro/dj-synhub-extraction-29edbb6f445d66e7bbbd9ab4331bafc8-yg8rqofw4p/part-000000000114.avro', 'https://api.dowjones.com/alpha/extractions/stream?file=dj-29edbb6f445d66e7bbbd9ab4331bafc8/29edbb6f445d66e7bbbd9ab4331bafc8/format=avro/dj-synhub-extraction-29edbb6f445d66e7bbbd9ab4331bafc8-yg8rqofw4p/part-000000000115.avro', 'https://api.dowjones.com/alpha/extractions/stream?file=dj-29edbb6f445d66e7bbbd9ab4331bafc8/29edbb6f445d66e7bbbd9ab4331bafc8/format=avro/dj-synhub-extraction-29edbb6f445d66e7bbbd9ab4331bafc8-yg8rqofw4p/part-000000000116.avro', 'https://api.dowjones.com/alpha/extractions/stream?file=dj-29edbb6f445d66e7bbbd9ab4331bafc8/29edbb6f445d66e7bbbd9ab4331bafc8/format=avro/dj-synhub-extraction-29edbb6f445d66e7bbbd9ab4331bafc8-yg8rqofw4p/part-000000000117.avro', 'https://api.dowjones.com/alpha/extractions/stream?file=dj-29edbb6f445d66e7bbbd9ab4331bafc8/29edbb6f445d66e7bbbd9ab4331bafc8/format=avro/dj-synhub-extraction-29edbb6f445d66e7bbbd9ab4331bafc8-yg8rqofw4p/part-000000000118.avro', 'https://api.dowjones.com/alpha/extractions/stream?file=dj-29edbb6f445d66e7bbbd9ab4331bafc8/29edbb6f445d66e7bbbd9ab4331bafc8/format=avro/dj-synhub-extraction-29edbb6f445d66e7bbbd9ab4331bafc8-yg8rqofw4p/part-000000000119.avro', 'https://api.dowjones.com/alpha/extractions/stream?file=dj-29edbb6f445d66e7bbbd9ab4331bafc8/29edbb6f445d66e7bbbd9ab4331bafc8/format=avro/dj-synhub-extraction-29edbb6f445d66e7bbbd9ab4331bafc8-yg8rqofw4p/part-000000000120.avro', 'https://api.dowjones.com/alpha/extractions/stream?file=dj-29edbb6f445d66e7bbbd9ab4331bafc8/29edbb6f445d66e7bbbd9ab4331bafc8/format=avro/dj-synhub-extraction-29edbb6f445d66e7bbbd9ab4331bafc8-yg8rqofw4p/part-000000000121.avro', 'https://api.dowjones.com/alpha/extractions/stream?file=dj-29edbb6f445d66e7bbbd9ab4331bafc8/29edbb6f445d66e7bbbd9ab4331bafc8/format=avro/dj-synhub-extraction-29edbb6f445d66e7bbbd9ab4331bafc8-yg8rqofw4p/part-000000000122.avro', 'https://api.dowjones.com/alpha/extractions/stream?file=dj-29edbb6f445d66e7bbbd9ab4331bafc8/29edbb6f445d66e7bbbd9ab4331bafc8/format=avro/dj-synhub-extraction-29edbb6f445d66e7bbbd9ab4331bafc8-yg8rqofw4p/part-000000000123.avro', 'https://api.dowjones.com/alpha/extractions/stream?file=dj-29edbb6f445d66e7bbbd9ab4331bafc8/29edbb6f445d66e7bbbd9ab4331bafc8/format=avro/dj-synhub-extraction-29edbb6f445d66e7bbbd9ab4331bafc8-yg8rqofw4p/part-000000000124.avro', 'https://api.dowjones.com/alpha/extractions/stream?file=dj-29edbb6f445d66e7bbbd9ab4331bafc8/29edbb6f445d66e7bbbd9ab4331bafc8/format=avro/dj-synhub-extraction-29edbb6f445d66e7bbbd9ab4331bafc8-yg8rqofw4p/part-000000000125.avro', 'https://api.dowjones.com/alpha/extractions/stream?file=dj-29edbb6f445d66e7bbbd9ab4331bafc8/29edbb6f445d66e7bbbd9ab4331bafc8/format=avro/dj-synhub-extraction-29edbb6f445d66e7bbbd9ab4331bafc8-yg8rqofw4p/part-000000000126.avro', 'https://api.dowjones.com/alpha/extractions/stream?file=dj-29edbb6f445d66e7bbbd9ab4331bafc8/29edbb6f445d66e7bbbd9ab4331bafc8/format=avro/dj-synhub-extraction-29edbb6f445d66e7bbbd9ab4331bafc8-yg8rqofw4p/part-000000000127.avro', 'https://api.dowjones.com/alpha/extractions/stream?file=dj-29edbb6f445d66e7bbbd9ab4331bafc8/29edbb6f445d66e7bbbd9ab4331bafc8/format=avro/dj-synhub-extraction-29edbb6f445d66e7bbbd9ab4331bafc8-yg8rqofw4p/part-000000000128.avro', 'https://api.dowjones.com/alpha/extractions/stream?file=dj-29edbb6f445d66e7bbbd9ab4331bafc8/29edbb6f445d66e7bbbd9ab4331bafc8/format=avro/dj-synhub-extraction-29edbb6f445d66e7bbbd9ab4331bafc8-yg8rqofw4p/part-000000000129.avro', 'https://api.dowjones.com/alpha/extractions/stream?file=dj-29edbb6f445d66e7bbbd9ab4331bafc8/29edbb6f445d66e7bbbd9ab4331bafc8/format=avro/dj-synhub-extraction-29edbb6f445d66e7bbbd9ab4331bafc8-yg8rqofw4p/part-000000000130.avro', 'https://api.dowjones.com/alpha/extractions/stream?file=dj-29edbb6f445d66e7bbbd9ab4331bafc8/29edbb6f445d66e7bbbd9ab4331bafc8/format=avro/dj-synhub-extraction-29edbb6f445d66e7bbbd9ab4331bafc8-yg8rqofw4p/part-000000000131.avro', 'https://api.dowjones.com/alpha/extractions/stream?file=dj-29edbb6f445d66e7bbbd9ab4331bafc8/29edbb6f445d66e7bbbd9ab4331bafc8/format=avro/dj-synhub-extraction-29edbb6f445d66e7bbbd9ab4331bafc8-yg8rqofw4p/part-000000000132.avro', 'https://api.dowjones.com/alpha/extractions/stream?file=dj-29edbb6f445d66e7bbbd9ab4331bafc8/29edbb6f445d66e7bbbd9ab4331bafc8/format=avro/dj-synhub-extraction-29edbb6f445d66e7bbbd9ab4331bafc8-yg8rqofw4p/part-000000000133.avro', 'https://api.dowjones.com/alpha/extractions/stream?file=dj-29edbb6f445d66e7bbbd9ab4331bafc8/29edbb6f445d66e7bbbd9ab4331bafc8/format=avro/dj-synhub-extraction-29edbb6f445d66e7bbbd9ab4331bafc8-yg8rqofw4p/part-000000000134.avro']\n",
       "  |    |-file_format = avro\n",
       "  |-log = <Logger factiva.core.log (DEBUG)>"
      ]
     },
     "execution_count": 15,
     "metadata": {},
     "output_type": "execute_result"
    }
   ],
   "source": [
    "s"
   ]
  },
  {
   "cell_type": "markdown",
   "id": "44ecaa78-e0cd-4d37-a872-436686f316c1",
   "metadata": {},
   "source": [
    "## Extraction Query Options\n",
    "\n",
    "An extraction query can use more parameters:\n",
    "\n",
    "* **`file_format`**: _Optional_, _Default: `'avro'`_. File format to be used for Extractions. Possible values are `'avro'`, `'csv'` or `'json'`. Used only by the Extraction operation.\n",
    "* **`limit`**: _Optional_, _Default: `0` (No limit)_. Positive integer that limits the amount of documents to extract. Used only by the Extraction operation."
   ]
  },
  {
   "cell_type": "code",
   "execution_count": 7,
   "id": "47f8c7b5-a1f5-48be-9f5c-1fcfa9b2c30a",
   "metadata": {},
   "outputs": [],
   "source": [
    "s.query.file_format = 'avro'\n",
    "# s.query.limit = 1000     # Uncomment this line to set a max number of extracted documents"
   ]
  },
  {
   "cell_type": "markdown",
   "id": "d8bf7ac0-0a75-411c-9809-781bdca9aa9b",
   "metadata": {},
   "source": [
    "## Running the Extraction Operation   `**(decremental)**`\n",
    "\n",
    "This operation builds a collection of files containing the articles selected according to query conditions.\n",
    "\n",
    "**This operation will decrement 1 extraction from your allowance, and can take several minutes to complete**\n",
    "\n",
    "An Extraction job decrements the account's allowance, and therefore, it's highly recommended to be executed after verifying the same query using [Explain](1.4_snapshot_explain.ipynb) and/or [Analytics](1.5_snapshot_analytics.ipynb) jobs return values in line with the expected volumes.\n",
    "\n",
    "The `<Snapshot>.process_extraction()` function directly submits, monitors the job and download the content. If a more manual process is required (send job, monitor job, get results), please see the [detailed package documentation](https://factiva-news-python.readthedocs.io/).\n",
    "\n",
    "To review the **Snapshot History**, please see the notebook [User Statistics](1.1_user_statistics.ipynb)."
   ]
  },
  {
   "cell_type": "code",
   "execution_count": 5,
   "id": "7b03d0dd",
   "metadata": {},
   "outputs": [],
   "source": [
    "!open -a Terminal ."
   ]
  },
  {
   "cell_type": "code",
   "execution_count": 8,
   "id": "a495fac7-5096-43d6-9d0b-4d083cf02409",
   "metadata": {},
   "outputs": [
    {
     "name": "stdout",
     "output_type": "stream",
     "text": [
      "Done!\n",
      "CPU times: user 33.1 s, sys: 14.7 s, total: 47.7 s\n",
      "Wall time: 28min 27s\n"
     ]
    }
   ],
   "source": [
    "%%time\n",
    "s.process_extraction(download_path='./new_fact/')\n",
    "print('Done!')"
   ]
  },
  {
   "cell_type": "markdown",
   "id": "24c726d7-4f38-4507-bec0-7aac4c3e21bb",
   "metadata": {},
   "source": [
    "## Next Steps\n",
    "\n",
    "* Work with the downloaded files as described in the [snapshot files](1.9_snapshot_files.ipynb) notebook\n",
    "* Create a new Stream"
   ]
  }
 ],
 "metadata": {
  "kernelspec": {
   "display_name": "Python 3 (ipykernel)",
   "language": "python",
   "name": "python3"
  },
  "language_info": {
   "codemirror_mode": {
    "name": "ipython",
    "version": 3
   },
   "file_extension": ".py",
   "mimetype": "text/x-python",
   "name": "python",
   "nbconvert_exporter": "python",
   "pygments_lexer": "ipython3",
   "version": "3.11.6"
  }
 },
 "nbformat": 4,
 "nbformat_minor": 5
}
