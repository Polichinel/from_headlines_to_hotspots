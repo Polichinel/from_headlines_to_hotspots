{
 "cells": [
  {
   "cell_type": "code",
   "execution_count": 1,
   "id": "initial_id",
   "metadata": {
    "collapsed": true,
    "ExecuteTime": {
     "end_time": "2024-03-04T16:04:56.818103Z",
     "start_time": "2024-03-04T16:04:56.598585Z"
    }
   },
   "outputs": [],
   "source": [
    "import pandas as pd"
   ]
  },
  {
   "cell_type": "code",
   "outputs": [],
   "source": [
    "FILES = !ls shards_out/shard_*.parquet"
   ],
   "metadata": {
    "collapsed": false,
    "ExecuteTime": {
     "end_time": "2024-03-04T16:04:58.057809Z",
     "start_time": "2024-03-04T16:04:58.034759Z"
    }
   },
   "id": "7d3e529ec522304e",
   "execution_count": 2
  },
  {
   "cell_type": "code",
   "outputs": [
    {
     "data": {
      "text/plain": "['shards_out/shard_0.parquet',\n 'shards_out/shard_1.parquet',\n 'shards_out/shard_10.parquet',\n 'shards_out/shard_100.parquet',\n 'shards_out/shard_101.parquet',\n 'shards_out/shard_102.parquet',\n 'shards_out/shard_103.parquet',\n 'shards_out/shard_104.parquet',\n 'shards_out/shard_105.parquet',\n 'shards_out/shard_106.parquet',\n 'shards_out/shard_107.parquet',\n 'shards_out/shard_108.parquet',\n 'shards_out/shard_109.parquet',\n 'shards_out/shard_11.parquet',\n 'shards_out/shard_110.parquet',\n 'shards_out/shard_111.parquet',\n 'shards_out/shard_112.parquet',\n 'shards_out/shard_113.parquet',\n 'shards_out/shard_114.parquet',\n 'shards_out/shard_115.parquet',\n 'shards_out/shard_116.parquet',\n 'shards_out/shard_117.parquet',\n 'shards_out/shard_118.parquet',\n 'shards_out/shard_119.parquet',\n 'shards_out/shard_12.parquet',\n 'shards_out/shard_120.parquet',\n 'shards_out/shard_121.parquet',\n 'shards_out/shard_122.parquet',\n 'shards_out/shard_123.parquet',\n 'shards_out/shard_124.parquet',\n 'shards_out/shard_125.parquet',\n 'shards_out/shard_126.parquet',\n 'shards_out/shard_127.parquet',\n 'shards_out/shard_128.parquet',\n 'shards_out/shard_129.parquet',\n 'shards_out/shard_13.parquet',\n 'shards_out/shard_130.parquet',\n 'shards_out/shard_131.parquet',\n 'shards_out/shard_132.parquet',\n 'shards_out/shard_133.parquet',\n 'shards_out/shard_134.parquet',\n 'shards_out/shard_135.parquet',\n 'shards_out/shard_136.parquet',\n 'shards_out/shard_137.parquet',\n 'shards_out/shard_138.parquet',\n 'shards_out/shard_139.parquet',\n 'shards_out/shard_14.parquet',\n 'shards_out/shard_140.parquet',\n 'shards_out/shard_141.parquet',\n 'shards_out/shard_142.parquet',\n 'shards_out/shard_143.parquet',\n 'shards_out/shard_144.parquet',\n 'shards_out/shard_145.parquet',\n 'shards_out/shard_146.parquet',\n 'shards_out/shard_147.parquet',\n 'shards_out/shard_148.parquet',\n 'shards_out/shard_149.parquet',\n 'shards_out/shard_15.parquet',\n 'shards_out/shard_150.parquet',\n 'shards_out/shard_151.parquet',\n 'shards_out/shard_152.parquet',\n 'shards_out/shard_153.parquet',\n 'shards_out/shard_154.parquet',\n 'shards_out/shard_155.parquet',\n 'shards_out/shard_156.parquet',\n 'shards_out/shard_157.parquet',\n 'shards_out/shard_158.parquet',\n 'shards_out/shard_159.parquet',\n 'shards_out/shard_16.parquet',\n 'shards_out/shard_160.parquet',\n 'shards_out/shard_161.parquet',\n 'shards_out/shard_162.parquet',\n 'shards_out/shard_163.parquet',\n 'shards_out/shard_164.parquet',\n 'shards_out/shard_165.parquet',\n 'shards_out/shard_166.parquet',\n 'shards_out/shard_167.parquet',\n 'shards_out/shard_168.parquet',\n 'shards_out/shard_169.parquet',\n 'shards_out/shard_17.parquet',\n 'shards_out/shard_170.parquet',\n 'shards_out/shard_171.parquet',\n 'shards_out/shard_172.parquet',\n 'shards_out/shard_173.parquet',\n 'shards_out/shard_174.parquet',\n 'shards_out/shard_175.parquet',\n 'shards_out/shard_176.parquet',\n 'shards_out/shard_177.parquet',\n 'shards_out/shard_178.parquet',\n 'shards_out/shard_179.parquet',\n 'shards_out/shard_18.parquet',\n 'shards_out/shard_180.parquet',\n 'shards_out/shard_181.parquet',\n 'shards_out/shard_182.parquet',\n 'shards_out/shard_183.parquet',\n 'shards_out/shard_184.parquet',\n 'shards_out/shard_185.parquet',\n 'shards_out/shard_186.parquet',\n 'shards_out/shard_187.parquet',\n 'shards_out/shard_188.parquet',\n 'shards_out/shard_189.parquet',\n 'shards_out/shard_19.parquet',\n 'shards_out/shard_190.parquet',\n 'shards_out/shard_191.parquet',\n 'shards_out/shard_192.parquet',\n 'shards_out/shard_193.parquet',\n 'shards_out/shard_194.parquet',\n 'shards_out/shard_195.parquet',\n 'shards_out/shard_196.parquet',\n 'shards_out/shard_197.parquet',\n 'shards_out/shard_198.parquet',\n 'shards_out/shard_199.parquet',\n 'shards_out/shard_2.parquet',\n 'shards_out/shard_20.parquet',\n 'shards_out/shard_200.parquet',\n 'shards_out/shard_201.parquet',\n 'shards_out/shard_202.parquet',\n 'shards_out/shard_203.parquet',\n 'shards_out/shard_204.parquet',\n 'shards_out/shard_205.parquet',\n 'shards_out/shard_206.parquet',\n 'shards_out/shard_207.parquet',\n 'shards_out/shard_208.parquet',\n 'shards_out/shard_209.parquet',\n 'shards_out/shard_21.parquet',\n 'shards_out/shard_210.parquet',\n 'shards_out/shard_211.parquet',\n 'shards_out/shard_212.parquet',\n 'shards_out/shard_213.parquet',\n 'shards_out/shard_22.parquet',\n 'shards_out/shard_23.parquet',\n 'shards_out/shard_24.parquet',\n 'shards_out/shard_25.parquet',\n 'shards_out/shard_26.parquet',\n 'shards_out/shard_27.parquet',\n 'shards_out/shard_28.parquet',\n 'shards_out/shard_29.parquet',\n 'shards_out/shard_3.parquet',\n 'shards_out/shard_30.parquet',\n 'shards_out/shard_31.parquet',\n 'shards_out/shard_32.parquet',\n 'shards_out/shard_33.parquet',\n 'shards_out/shard_34.parquet',\n 'shards_out/shard_35.parquet',\n 'shards_out/shard_36.parquet',\n 'shards_out/shard_37.parquet',\n 'shards_out/shard_38.parquet',\n 'shards_out/shard_39.parquet',\n 'shards_out/shard_4.parquet',\n 'shards_out/shard_40.parquet',\n 'shards_out/shard_41.parquet',\n 'shards_out/shard_42.parquet',\n 'shards_out/shard_43.parquet',\n 'shards_out/shard_44.parquet',\n 'shards_out/shard_45.parquet',\n 'shards_out/shard_46.parquet',\n 'shards_out/shard_47.parquet',\n 'shards_out/shard_48.parquet',\n 'shards_out/shard_49.parquet',\n 'shards_out/shard_5.parquet',\n 'shards_out/shard_50.parquet',\n 'shards_out/shard_51.parquet',\n 'shards_out/shard_52.parquet',\n 'shards_out/shard_53.parquet',\n 'shards_out/shard_54.parquet',\n 'shards_out/shard_55.parquet',\n 'shards_out/shard_56.parquet',\n 'shards_out/shard_57.parquet',\n 'shards_out/shard_58.parquet',\n 'shards_out/shard_59.parquet',\n 'shards_out/shard_6.parquet',\n 'shards_out/shard_60.parquet',\n 'shards_out/shard_61.parquet',\n 'shards_out/shard_62.parquet',\n 'shards_out/shard_63.parquet',\n 'shards_out/shard_64.parquet',\n 'shards_out/shard_65.parquet',\n 'shards_out/shard_66.parquet',\n 'shards_out/shard_67.parquet',\n 'shards_out/shard_68.parquet',\n 'shards_out/shard_69.parquet',\n 'shards_out/shard_7.parquet',\n 'shards_out/shard_70.parquet',\n 'shards_out/shard_71.parquet',\n 'shards_out/shard_72.parquet',\n 'shards_out/shard_73.parquet',\n 'shards_out/shard_74.parquet',\n 'shards_out/shard_75.parquet',\n 'shards_out/shard_76.parquet',\n 'shards_out/shard_77.parquet',\n 'shards_out/shard_78.parquet',\n 'shards_out/shard_79.parquet',\n 'shards_out/shard_8.parquet',\n 'shards_out/shard_80.parquet',\n 'shards_out/shard_81.parquet',\n 'shards_out/shard_82.parquet',\n 'shards_out/shard_83.parquet',\n 'shards_out/shard_84.parquet',\n 'shards_out/shard_85.parquet',\n 'shards_out/shard_86.parquet',\n 'shards_out/shard_87.parquet',\n 'shards_out/shard_88.parquet',\n 'shards_out/shard_89.parquet',\n 'shards_out/shard_9.parquet',\n 'shards_out/shard_90.parquet',\n 'shards_out/shard_91.parquet',\n 'shards_out/shard_92.parquet',\n 'shards_out/shard_93.parquet',\n 'shards_out/shard_94.parquet',\n 'shards_out/shard_95.parquet',\n 'shards_out/shard_96.parquet',\n 'shards_out/shard_97.parquet',\n 'shards_out/shard_98.parquet',\n 'shards_out/shard_99.parquet']"
     },
     "execution_count": 3,
     "metadata": {},
     "output_type": "execute_result"
    }
   ],
   "source": [
    "FILES"
   ],
   "metadata": {
    "collapsed": false,
    "ExecuteTime": {
     "end_time": "2024-03-04T16:04:59.291928Z",
     "start_time": "2024-03-04T16:04:59.282494Z"
    }
   },
   "id": "d20c905321873e8c",
   "execution_count": 3
  },
  {
   "cell_type": "code",
   "outputs": [],
   "source": [
    "df = pd.read_parquet(FILES[14])"
   ],
   "metadata": {
    "collapsed": false,
    "ExecuteTime": {
     "end_time": "2024-03-04T16:05:01.567849Z",
     "start_time": "2024-03-04T16:05:01.410167Z"
    }
   },
   "id": "e6cf79908253932c",
   "execution_count": 4
  },
  {
   "cell_type": "code",
   "outputs": [
    {
     "name": "stdout",
     "output_type": "stream",
     "text": [
      "shards_out/shard_0.parquet\n",
      "shards_out/shard_1.parquet\n",
      "shards_out/shard_10.parquet\n",
      "shards_out/shard_100.parquet\n",
      "shards_out/shard_101.parquet\n",
      "shards_out/shard_102.parquet\n",
      "shards_out/shard_103.parquet\n",
      "shards_out/shard_104.parquet\n",
      "shards_out/shard_105.parquet\n",
      "shards_out/shard_106.parquet\n",
      "shards_out/shard_107.parquet\n",
      "shards_out/shard_108.parquet\n",
      "shards_out/shard_109.parquet\n",
      "shards_out/shard_11.parquet\n",
      "shards_out/shard_110.parquet\n",
      "shards_out/shard_111.parquet\n",
      "shards_out/shard_112.parquet\n",
      "shards_out/shard_113.parquet\n",
      "shards_out/shard_114.parquet\n",
      "shards_out/shard_115.parquet\n",
      "shards_out/shard_116.parquet\n",
      "shards_out/shard_117.parquet\n",
      "shards_out/shard_118.parquet\n",
      "shards_out/shard_119.parquet\n",
      "shards_out/shard_12.parquet\n",
      "shards_out/shard_120.parquet\n",
      "shards_out/shard_121.parquet\n",
      "shards_out/shard_122.parquet\n",
      "shards_out/shard_123.parquet\n",
      "shards_out/shard_124.parquet\n",
      "shards_out/shard_125.parquet\n",
      "shards_out/shard_126.parquet\n",
      "shards_out/shard_127.parquet\n",
      "shards_out/shard_128.parquet\n",
      "shards_out/shard_129.parquet\n",
      "shards_out/shard_13.parquet\n",
      "shards_out/shard_130.parquet\n",
      "shards_out/shard_131.parquet\n",
      "shards_out/shard_132.parquet\n",
      "shards_out/shard_133.parquet\n",
      "shards_out/shard_134.parquet\n",
      "shards_out/shard_135.parquet\n",
      "shards_out/shard_136.parquet\n",
      "shards_out/shard_137.parquet\n",
      "shards_out/shard_138.parquet\n",
      "shards_out/shard_139.parquet\n",
      "shards_out/shard_14.parquet\n",
      "shards_out/shard_140.parquet\n",
      "shards_out/shard_141.parquet\n",
      "shards_out/shard_142.parquet\n",
      "shards_out/shard_143.parquet\n",
      "shards_out/shard_144.parquet\n",
      "shards_out/shard_145.parquet\n",
      "shards_out/shard_146.parquet\n",
      "shards_out/shard_147.parquet\n",
      "shards_out/shard_148.parquet\n",
      "shards_out/shard_149.parquet\n",
      "shards_out/shard_15.parquet\n",
      "shards_out/shard_150.parquet\n",
      "shards_out/shard_151.parquet\n",
      "shards_out/shard_152.parquet\n",
      "shards_out/shard_153.parquet\n",
      "shards_out/shard_154.parquet\n",
      "shards_out/shard_155.parquet\n",
      "shards_out/shard_156.parquet\n",
      "shards_out/shard_157.parquet\n",
      "shards_out/shard_158.parquet\n",
      "shards_out/shard_159.parquet\n",
      "shards_out/shard_16.parquet\n",
      "shards_out/shard_160.parquet\n",
      "shards_out/shard_161.parquet\n",
      "shards_out/shard_162.parquet\n",
      "shards_out/shard_163.parquet\n",
      "shards_out/shard_164.parquet\n",
      "shards_out/shard_165.parquet\n",
      "shards_out/shard_166.parquet\n",
      "shards_out/shard_167.parquet\n",
      "shards_out/shard_168.parquet\n",
      "shards_out/shard_169.parquet\n",
      "shards_out/shard_17.parquet\n",
      "shards_out/shard_170.parquet\n",
      "shards_out/shard_171.parquet\n",
      "shards_out/shard_172.parquet\n",
      "shards_out/shard_173.parquet\n",
      "shards_out/shard_174.parquet\n",
      "shards_out/shard_175.parquet\n",
      "shards_out/shard_176.parquet\n",
      "shards_out/shard_177.parquet\n",
      "shards_out/shard_178.parquet\n",
      "shards_out/shard_179.parquet\n",
      "shards_out/shard_18.parquet\n",
      "shards_out/shard_180.parquet\n",
      "shards_out/shard_181.parquet\n",
      "shards_out/shard_182.parquet\n",
      "shards_out/shard_183.parquet\n",
      "shards_out/shard_184.parquet\n",
      "shards_out/shard_185.parquet\n",
      "shards_out/shard_186.parquet\n",
      "shards_out/shard_187.parquet\n",
      "shards_out/shard_188.parquet\n",
      "shards_out/shard_189.parquet\n",
      "shards_out/shard_19.parquet\n",
      "shards_out/shard_190.parquet\n",
      "shards_out/shard_191.parquet\n",
      "shards_out/shard_192.parquet\n",
      "shards_out/shard_193.parquet\n",
      "shards_out/shard_194.parquet\n",
      "shards_out/shard_195.parquet\n",
      "shards_out/shard_196.parquet\n",
      "shards_out/shard_197.parquet\n",
      "shards_out/shard_198.parquet\n",
      "shards_out/shard_199.parquet\n",
      "shards_out/shard_2.parquet\n",
      "shards_out/shard_20.parquet\n",
      "shards_out/shard_200.parquet\n",
      "shards_out/shard_201.parquet\n",
      "shards_out/shard_202.parquet\n",
      "shards_out/shard_203.parquet\n",
      "shards_out/shard_204.parquet\n",
      "shards_out/shard_205.parquet\n",
      "shards_out/shard_206.parquet\n",
      "shards_out/shard_207.parquet\n",
      "shards_out/shard_208.parquet\n",
      "shards_out/shard_209.parquet\n",
      "shards_out/shard_21.parquet\n",
      "shards_out/shard_210.parquet\n",
      "shards_out/shard_211.parquet\n",
      "shards_out/shard_212.parquet\n",
      "shards_out/shard_213.parquet\n",
      "shards_out/shard_22.parquet\n",
      "shards_out/shard_23.parquet\n",
      "shards_out/shard_24.parquet\n",
      "shards_out/shard_25.parquet\n",
      "shards_out/shard_26.parquet\n",
      "shards_out/shard_27.parquet\n",
      "shards_out/shard_28.parquet\n",
      "shards_out/shard_29.parquet\n",
      "shards_out/shard_3.parquet\n",
      "shards_out/shard_30.parquet\n",
      "shards_out/shard_31.parquet\n",
      "shards_out/shard_32.parquet\n",
      "shards_out/shard_33.parquet\n",
      "shards_out/shard_34.parquet\n",
      "shards_out/shard_35.parquet\n",
      "shards_out/shard_36.parquet\n",
      "shards_out/shard_37.parquet\n",
      "shards_out/shard_38.parquet\n",
      "shards_out/shard_39.parquet\n",
      "shards_out/shard_4.parquet\n",
      "shards_out/shard_40.parquet\n",
      "shards_out/shard_41.parquet\n",
      "shards_out/shard_42.parquet\n",
      "shards_out/shard_43.parquet\n",
      "shards_out/shard_44.parquet\n",
      "shards_out/shard_45.parquet\n",
      "shards_out/shard_46.parquet\n",
      "shards_out/shard_47.parquet\n",
      "shards_out/shard_48.parquet\n",
      "shards_out/shard_49.parquet\n",
      "shards_out/shard_5.parquet\n",
      "shards_out/shard_50.parquet\n",
      "shards_out/shard_51.parquet\n",
      "shards_out/shard_52.parquet\n",
      "shards_out/shard_53.parquet\n",
      "shards_out/shard_54.parquet\n",
      "shards_out/shard_55.parquet\n",
      "shards_out/shard_56.parquet\n",
      "shards_out/shard_57.parquet\n",
      "shards_out/shard_58.parquet\n",
      "shards_out/shard_59.parquet\n",
      "shards_out/shard_6.parquet\n",
      "shards_out/shard_60.parquet\n",
      "shards_out/shard_61.parquet\n",
      "shards_out/shard_62.parquet\n",
      "shards_out/shard_63.parquet\n",
      "shards_out/shard_64.parquet\n",
      "shards_out/shard_65.parquet\n",
      "shards_out/shard_66.parquet\n",
      "shards_out/shard_67.parquet\n",
      "shards_out/shard_68.parquet\n",
      "shards_out/shard_69.parquet\n",
      "shards_out/shard_7.parquet\n",
      "shards_out/shard_70.parquet\n",
      "shards_out/shard_71.parquet\n",
      "shards_out/shard_72.parquet\n",
      "shards_out/shard_73.parquet\n",
      "shards_out/shard_74.parquet\n",
      "shards_out/shard_75.parquet\n",
      "shards_out/shard_76.parquet\n",
      "shards_out/shard_77.parquet\n",
      "shards_out/shard_78.parquet\n",
      "shards_out/shard_79.parquet\n",
      "shards_out/shard_8.parquet\n",
      "shards_out/shard_80.parquet\n",
      "shards_out/shard_81.parquet\n",
      "shards_out/shard_82.parquet\n",
      "shards_out/shard_83.parquet\n",
      "shards_out/shard_84.parquet\n",
      "shards_out/shard_85.parquet\n",
      "shards_out/shard_86.parquet\n",
      "shards_out/shard_87.parquet\n",
      "shards_out/shard_88.parquet\n",
      "shards_out/shard_89.parquet\n",
      "shards_out/shard_9.parquet\n",
      "shards_out/shard_90.parquet\n",
      "shards_out/shard_91.parquet\n",
      "shards_out/shard_92.parquet\n",
      "shards_out/shard_93.parquet\n",
      "shards_out/shard_94.parquet\n",
      "shards_out/shard_95.parquet\n",
      "shards_out/shard_96.parquet\n",
      "shards_out/shard_97.parquet\n",
      "shards_out/shard_98.parquet\n",
      "shards_out/shard_99.parquet\n"
     ]
    }
   ],
   "source": [
    "import warnings\n",
    "warnings.filterwarnings(\"ignore\")\n",
    "\n",
    "collector = pd.DataFrame()\n",
    "for file in FILES:\n",
    "    print(file)\n",
    "    df = pd.read_parquet(file)\n",
    "    test = df[['modification_datetime','date_end','an']]\n",
    "    test['date'] = test.date_end.combine_first(test.modification_datetime)\n",
    "    test = test[['date','an']]\n",
    "    collector = pd.concat([collector,test])"
   ],
   "metadata": {
    "collapsed": false,
    "ExecuteTime": {
     "end_time": "2024-03-04T16:12:01.884566Z",
     "start_time": "2024-03-04T16:11:25.830362Z"
    }
   },
   "id": "a0c2b72aedc3263d",
   "execution_count": 21
  },
  {
   "cell_type": "code",
   "outputs": [],
   "source": [
    "collector['date']=pd.to_datetime(collector.date)"
   ],
   "metadata": {
    "collapsed": false,
    "ExecuteTime": {
     "end_time": "2024-03-04T16:14:39.752461Z",
     "start_time": "2024-03-04T16:14:38.037047Z"
    }
   },
   "id": "8a511e25f9376349",
   "execution_count": 33
  },
  {
   "cell_type": "code",
   "outputs": [],
   "source": [
    "collector.to_parquet('an_to_date.parquet')"
   ],
   "metadata": {
    "collapsed": false,
    "ExecuteTime": {
     "end_time": "2024-03-04T16:14:48.452685Z",
     "start_time": "2024-03-04T16:14:48.200380Z"
    }
   },
   "id": "1e236b3e59bffbbd",
   "execution_count": 35
  },
  {
   "cell_type": "markdown",
   "source": [],
   "metadata": {
    "collapsed": false
   },
   "id": "13427bdb2de0b252"
  }
 ],
 "metadata": {
  "kernelspec": {
   "display_name": "Python 3",
   "language": "python",
   "name": "python3"
  },
  "language_info": {
   "codemirror_mode": {
    "name": "ipython",
    "version": 2
   },
   "file_extension": ".py",
   "mimetype": "text/x-python",
   "name": "python",
   "nbconvert_exporter": "python",
   "pygments_lexer": "ipython2",
   "version": "2.7.6"
  }
 },
 "nbformat": 4,
 "nbformat_minor": 5
}
