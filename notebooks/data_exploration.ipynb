{
 "cells": [
  {
   "cell_type": "markdown",
   "metadata": {},
   "source": [
    "https://huggingface.co/bigscience/bloom-560m?text=%22Recreation%22.+Today+I+would+like+to\n",
    "\n"
   ]
  },
  {
   "cell_type": "code",
   "execution_count": 8,
   "metadata": {},
   "outputs": [],
   "source": [
    "import pandas as pd\n",
    "import numpy as np\n",
    "from transformers import AutoTokenizer, AutoModelForMaskedLM"
   ]
  },
  {
   "cell_type": "code",
   "execution_count": 2,
   "metadata": {},
   "outputs": [],
   "source": [
    "PATH = \"/home/simon/Documents/scripts/from_headlines_to_hotspots/data/raw/shards_out/shard_0.parquet\"\n",
    "df = pd.read_parquet(PATH)\n",
    "\n",
    "def concatenate_columns(row):\n",
    "    return f\"{row['publication_datetime']}, {row['publisher_name']}, {row['title']}, {row['snippet']}, {row['body']}\"\n",
    "\n",
    "df['text_block'] = df.apply(concatenate_columns, axis=1)"
   ]
  },
  {
   "cell_type": "code",
   "execution_count": 3,
   "metadata": {},
   "outputs": [
    {
     "name": "stderr",
     "output_type": "stream",
     "text": [
      "Downloading (…)okenizer_config.json: 100%|██████████| 28.0/28.0 [00:00<00:00, 4.50kB/s]\n",
      "Downloading (…)lve/main/config.json: 100%|██████████| 570/570 [00:00<00:00, 760kB/s]\n",
      "Downloading (…)solve/main/vocab.txt: 100%|██████████| 232k/232k [00:00<00:00, 1.15MB/s]\n",
      "Downloading (…)/main/tokenizer.json: 100%|██████████| 466k/466k [00:00<00:00, 1.56MB/s]\n",
      "Downloading pytorch_model.bin: 100%|██████████| 440M/440M [00:05<00:00, 84.8MB/s] \n",
      "Some weights of the model checkpoint at bert-base-uncased were not used when initializing BertForMaskedLM: ['cls.seq_relationship.bias', 'cls.seq_relationship.weight']\n",
      "- This IS expected if you are initializing BertForMaskedLM from the checkpoint of a model trained on another task or with another architecture (e.g. initializing a BertForSequenceClassification model from a BertForPreTraining model).\n",
      "- This IS NOT expected if you are initializing BertForMaskedLM from the checkpoint of a model that you expect to be exactly identical (initializing a BertForSequenceClassification model from a BertForSequenceClassification model).\n"
     ]
    }
   ],
   "source": [
    "tokenizer = AutoTokenizer.from_pretrained(\"bert-base-uncased\")\n",
    "model = AutoModelForMaskedLM.from_pretrained(\"bert-base-uncased\")"
   ]
  },
  {
   "cell_type": "code",
   "execution_count": null,
   "metadata": {},
   "outputs": [],
   "source": []
  },
  {
   "cell_type": "code",
   "execution_count": null,
   "metadata": {},
   "outputs": [],
   "source": []
  },
  {
   "cell_type": "code",
   "execution_count": null,
   "metadata": {},
   "outputs": [],
   "source": []
  },
  {
   "cell_type": "code",
   "execution_count": null,
   "metadata": {},
   "outputs": [],
   "source": []
  },
  {
   "cell_type": "code",
   "execution_count": null,
   "metadata": {},
   "outputs": [],
   "source": []
  },
  {
   "cell_type": "code",
   "execution_count": null,
   "metadata": {},
   "outputs": [],
   "source": []
  },
  {
   "cell_type": "code",
   "execution_count": null,
   "metadata": {},
   "outputs": [],
   "source": []
  },
  {
   "cell_type": "code",
   "execution_count": null,
   "metadata": {},
   "outputs": [],
   "source": []
  },
  {
   "cell_type": "code",
   "execution_count": null,
   "metadata": {},
   "outputs": [],
   "source": []
  },
  {
   "cell_type": "code",
   "execution_count": null,
   "metadata": {},
   "outputs": [],
   "source": []
  },
  {
   "cell_type": "code",
   "execution_count": 4,
   "metadata": {},
   "outputs": [
    {
     "data": {
      "text/plain": [
       "'2016-07-29 00:00:00, Al Jazeera International, Rescued refugees detail abuse in Libya, Rescued at sea, refugees are subject to kidnapping, torture and rape in Libya, according to Doctors Without Borders., Poverty, persecution and conflict are among the reasons refugees were forced to flee their homelands. By the time they were rescued from sinking boats on the Mediterranean Sea, they had another more urgent motive: escape from Libya. Endalkachew Gebrehiwot, a refugee, told Al Jazeera that during the 10 months he was in Libya, human smugglers had kidnapped him twice. Unable to pay a $4,500 ransom, he said the smugglers forced him to work and whipped him every day with electrical cable. \"It is the will of God, that I survived. You don\\'t expect to survive that concentration camp,\" he said. Kim Clausen, from the Doctors Without Borders organisation, described the conditions in Libya as \"horrible\". \"Right now, [what\\'s] going on in Libya, it\\'s what we\\'d call slave trading, it\\'s forced prostitution, mass rapes. It\\'s torture. It\\'s kidnapping for ransom by the smugglers and they sell the refugees.\" Endalkachew said the situation was so bad, he would rather \"die at sea\" than remain in Libya. Al Jazeera'"
      ]
     },
     "execution_count": 4,
     "metadata": {},
     "output_type": "execute_result"
    }
   ],
   "source": [
    "df.apply(concatenate_columns, axis=1)[0]"
   ]
  },
  {
   "cell_type": "code",
   "execution_count": 5,
   "metadata": {},
   "outputs": [
    {
     "data": {
      "text/plain": [
       "('title', 'publication_datetime', 'publisher_name')"
      ]
     },
     "execution_count": 5,
     "metadata": {},
     "output_type": "execute_result"
    }
   ],
   "source": [
    "'title', 'publication_datetime', 'publisher_name',"
   ]
  },
  {
   "cell_type": "code",
   "execution_count": null,
   "metadata": {},
   "outputs": [],
   "source": []
  },
  {
   "cell_type": "code",
   "execution_count": null,
   "metadata": {},
   "outputs": [],
   "source": []
  },
  {
   "cell_type": "code",
   "execution_count": null,
   "metadata": {},
   "outputs": [],
   "source": []
  },
  {
   "cell_type": "code",
   "execution_count": 6,
   "metadata": {},
   "outputs": [
    {
     "ename": "KeyError",
     "evalue": "'column1'",
     "output_type": "error",
     "traceback": [
      "\u001b[0;31m---------------------------------------------------------------------------\u001b[0m",
      "\u001b[0;31mKeyError\u001b[0m                                  Traceback (most recent call last)",
      "File \u001b[0;32m~/anaconda3/envs/pandas_env/lib/python3.8/site-packages/pandas/core/indexes/base.py:3802\u001b[0m, in \u001b[0;36mIndex.get_loc\u001b[0;34m(self, key, method, tolerance)\u001b[0m\n\u001b[1;32m   3801\u001b[0m \u001b[39mtry\u001b[39;00m:\n\u001b[0;32m-> 3802\u001b[0m     \u001b[39mreturn\u001b[39;00m \u001b[39mself\u001b[39;49m\u001b[39m.\u001b[39;49m_engine\u001b[39m.\u001b[39;49mget_loc(casted_key)\n\u001b[1;32m   3803\u001b[0m \u001b[39mexcept\u001b[39;00m \u001b[39mKeyError\u001b[39;00m \u001b[39mas\u001b[39;00m err:\n",
      "File \u001b[0;32m~/anaconda3/envs/pandas_env/lib/python3.8/site-packages/pandas/_libs/index.pyx:138\u001b[0m, in \u001b[0;36mpandas._libs.index.IndexEngine.get_loc\u001b[0;34m()\u001b[0m\n",
      "File \u001b[0;32m~/anaconda3/envs/pandas_env/lib/python3.8/site-packages/pandas/_libs/index.pyx:165\u001b[0m, in \u001b[0;36mpandas._libs.index.IndexEngine.get_loc\u001b[0;34m()\u001b[0m\n",
      "File \u001b[0;32mpandas/_libs/hashtable_class_helper.pxi:5745\u001b[0m, in \u001b[0;36mpandas._libs.hashtable.PyObjectHashTable.get_item\u001b[0;34m()\u001b[0m\n",
      "File \u001b[0;32mpandas/_libs/hashtable_class_helper.pxi:5753\u001b[0m, in \u001b[0;36mpandas._libs.hashtable.PyObjectHashTable.get_item\u001b[0;34m()\u001b[0m\n",
      "\u001b[0;31mKeyError\u001b[0m: 'column1'",
      "\nThe above exception was the direct cause of the following exception:\n",
      "\u001b[0;31mKeyError\u001b[0m                                  Traceback (most recent call last)",
      "Cell \u001b[0;32mIn[6], line 6\u001b[0m\n\u001b[1;32m      3\u001b[0m     \u001b[39mreturn\u001b[39;00m \u001b[39mf\u001b[39m\u001b[39m\"\u001b[39m\u001b[39m{\u001b[39;00mrow[\u001b[39m'\u001b[39m\u001b[39mcolumn1\u001b[39m\u001b[39m'\u001b[39m]\u001b[39m}\u001b[39;00m\u001b[39m_\u001b[39m\u001b[39m{\u001b[39;00mrow[\u001b[39m'\u001b[39m\u001b[39mcolumn2\u001b[39m\u001b[39m'\u001b[39m]\u001b[39m}\u001b[39;00m\u001b[39m_\u001b[39m\u001b[39m{\u001b[39;00mrow[\u001b[39m'\u001b[39m\u001b[39mcolumn3\u001b[39m\u001b[39m'\u001b[39m]\u001b[39m}\u001b[39;00m\u001b[39m\"\u001b[39m\n\u001b[1;32m      5\u001b[0m \u001b[39m# Step 2: Use the apply() method to create the new column\u001b[39;00m\n\u001b[0;32m----> 6\u001b[0m df[\u001b[39m'\u001b[39m\u001b[39mconcatenated_column\u001b[39m\u001b[39m'\u001b[39m] \u001b[39m=\u001b[39m df\u001b[39m.\u001b[39;49mapply(concatenate_columns, axis\u001b[39m=\u001b[39;49m\u001b[39m1\u001b[39;49m)\n\u001b[1;32m      8\u001b[0m \u001b[39m# Display the updated DataFrame with the new column\u001b[39;00m\n\u001b[1;32m      9\u001b[0m \u001b[39mprint\u001b[39m(df)\n",
      "File \u001b[0;32m~/anaconda3/envs/pandas_env/lib/python3.8/site-packages/pandas/core/frame.py:9568\u001b[0m, in \u001b[0;36mDataFrame.apply\u001b[0;34m(self, func, axis, raw, result_type, args, **kwargs)\u001b[0m\n\u001b[1;32m   9557\u001b[0m \u001b[39mfrom\u001b[39;00m \u001b[39mpandas\u001b[39;00m\u001b[39m.\u001b[39;00m\u001b[39mcore\u001b[39;00m\u001b[39m.\u001b[39;00m\u001b[39mapply\u001b[39;00m \u001b[39mimport\u001b[39;00m frame_apply\n\u001b[1;32m   9559\u001b[0m op \u001b[39m=\u001b[39m frame_apply(\n\u001b[1;32m   9560\u001b[0m     \u001b[39mself\u001b[39m,\n\u001b[1;32m   9561\u001b[0m     func\u001b[39m=\u001b[39mfunc,\n\u001b[0;32m   (...)\u001b[0m\n\u001b[1;32m   9566\u001b[0m     kwargs\u001b[39m=\u001b[39mkwargs,\n\u001b[1;32m   9567\u001b[0m )\n\u001b[0;32m-> 9568\u001b[0m \u001b[39mreturn\u001b[39;00m op\u001b[39m.\u001b[39;49mapply()\u001b[39m.\u001b[39m__finalize__(\u001b[39mself\u001b[39m, method\u001b[39m=\u001b[39m\u001b[39m\"\u001b[39m\u001b[39mapply\u001b[39m\u001b[39m\"\u001b[39m)\n",
      "File \u001b[0;32m~/anaconda3/envs/pandas_env/lib/python3.8/site-packages/pandas/core/apply.py:764\u001b[0m, in \u001b[0;36mFrameApply.apply\u001b[0;34m(self)\u001b[0m\n\u001b[1;32m    761\u001b[0m \u001b[39melif\u001b[39;00m \u001b[39mself\u001b[39m\u001b[39m.\u001b[39mraw:\n\u001b[1;32m    762\u001b[0m     \u001b[39mreturn\u001b[39;00m \u001b[39mself\u001b[39m\u001b[39m.\u001b[39mapply_raw()\n\u001b[0;32m--> 764\u001b[0m \u001b[39mreturn\u001b[39;00m \u001b[39mself\u001b[39;49m\u001b[39m.\u001b[39;49mapply_standard()\n",
      "File \u001b[0;32m~/anaconda3/envs/pandas_env/lib/python3.8/site-packages/pandas/core/apply.py:891\u001b[0m, in \u001b[0;36mFrameApply.apply_standard\u001b[0;34m(self)\u001b[0m\n\u001b[1;32m    890\u001b[0m \u001b[39mdef\u001b[39;00m \u001b[39mapply_standard\u001b[39m(\u001b[39mself\u001b[39m):\n\u001b[0;32m--> 891\u001b[0m     results, res_index \u001b[39m=\u001b[39m \u001b[39mself\u001b[39;49m\u001b[39m.\u001b[39;49mapply_series_generator()\n\u001b[1;32m    893\u001b[0m     \u001b[39m# wrap results\u001b[39;00m\n\u001b[1;32m    894\u001b[0m     \u001b[39mreturn\u001b[39;00m \u001b[39mself\u001b[39m\u001b[39m.\u001b[39mwrap_results(results, res_index)\n",
      "File \u001b[0;32m~/anaconda3/envs/pandas_env/lib/python3.8/site-packages/pandas/core/apply.py:907\u001b[0m, in \u001b[0;36mFrameApply.apply_series_generator\u001b[0;34m(self)\u001b[0m\n\u001b[1;32m    904\u001b[0m \u001b[39mwith\u001b[39;00m option_context(\u001b[39m\"\u001b[39m\u001b[39mmode.chained_assignment\u001b[39m\u001b[39m\"\u001b[39m, \u001b[39mNone\u001b[39;00m):\n\u001b[1;32m    905\u001b[0m     \u001b[39mfor\u001b[39;00m i, v \u001b[39min\u001b[39;00m \u001b[39menumerate\u001b[39m(series_gen):\n\u001b[1;32m    906\u001b[0m         \u001b[39m# ignore SettingWithCopy here in case the user mutates\u001b[39;00m\n\u001b[0;32m--> 907\u001b[0m         results[i] \u001b[39m=\u001b[39m \u001b[39mself\u001b[39;49m\u001b[39m.\u001b[39;49mf(v)\n\u001b[1;32m    908\u001b[0m         \u001b[39mif\u001b[39;00m \u001b[39misinstance\u001b[39m(results[i], ABCSeries):\n\u001b[1;32m    909\u001b[0m             \u001b[39m# If we have a view on v, we need to make a copy because\u001b[39;00m\n\u001b[1;32m    910\u001b[0m             \u001b[39m#  series_generator will swap out the underlying data\u001b[39;00m\n\u001b[1;32m    911\u001b[0m             results[i] \u001b[39m=\u001b[39m results[i]\u001b[39m.\u001b[39mcopy(deep\u001b[39m=\u001b[39m\u001b[39mFalse\u001b[39;00m)\n",
      "Cell \u001b[0;32mIn[6], line 3\u001b[0m, in \u001b[0;36mconcatenate_columns\u001b[0;34m(row)\u001b[0m\n\u001b[1;32m      2\u001b[0m \u001b[39mdef\u001b[39;00m \u001b[39mconcatenate_columns\u001b[39m(row):\n\u001b[0;32m----> 3\u001b[0m     \u001b[39mreturn\u001b[39;00m \u001b[39mf\u001b[39m\u001b[39m\"\u001b[39m\u001b[39m{\u001b[39;00mrow[\u001b[39m'\u001b[39m\u001b[39mcolumn1\u001b[39m\u001b[39m'\u001b[39m]\u001b[39m}\u001b[39;00m\u001b[39m_\u001b[39m\u001b[39m{\u001b[39;00mrow[\u001b[39m'\u001b[39m\u001b[39mcolumn2\u001b[39m\u001b[39m'\u001b[39m]\u001b[39m}\u001b[39;00m\u001b[39m_\u001b[39m\u001b[39m{\u001b[39;00mrow[\u001b[39m'\u001b[39m\u001b[39mcolumn3\u001b[39m\u001b[39m'\u001b[39m]\u001b[39m}\u001b[39;00m\u001b[39m\"\u001b[39m\n",
      "File \u001b[0;32m~/anaconda3/envs/pandas_env/lib/python3.8/site-packages/pandas/core/series.py:981\u001b[0m, in \u001b[0;36mSeries.__getitem__\u001b[0;34m(self, key)\u001b[0m\n\u001b[1;32m    978\u001b[0m     \u001b[39mreturn\u001b[39;00m \u001b[39mself\u001b[39m\u001b[39m.\u001b[39m_values[key]\n\u001b[1;32m    980\u001b[0m \u001b[39melif\u001b[39;00m key_is_scalar:\n\u001b[0;32m--> 981\u001b[0m     \u001b[39mreturn\u001b[39;00m \u001b[39mself\u001b[39;49m\u001b[39m.\u001b[39;49m_get_value(key)\n\u001b[1;32m    983\u001b[0m \u001b[39mif\u001b[39;00m is_hashable(key):\n\u001b[1;32m    984\u001b[0m     \u001b[39m# Otherwise index.get_value will raise InvalidIndexError\u001b[39;00m\n\u001b[1;32m    985\u001b[0m     \u001b[39mtry\u001b[39;00m:\n\u001b[1;32m    986\u001b[0m         \u001b[39m# For labels that don't resolve as scalars like tuples and frozensets\u001b[39;00m\n",
      "File \u001b[0;32m~/anaconda3/envs/pandas_env/lib/python3.8/site-packages/pandas/core/series.py:1089\u001b[0m, in \u001b[0;36mSeries._get_value\u001b[0;34m(self, label, takeable)\u001b[0m\n\u001b[1;32m   1086\u001b[0m     \u001b[39mreturn\u001b[39;00m \u001b[39mself\u001b[39m\u001b[39m.\u001b[39m_values[label]\n\u001b[1;32m   1088\u001b[0m \u001b[39m# Similar to Index.get_value, but we do not fall back to positional\u001b[39;00m\n\u001b[0;32m-> 1089\u001b[0m loc \u001b[39m=\u001b[39m \u001b[39mself\u001b[39;49m\u001b[39m.\u001b[39;49mindex\u001b[39m.\u001b[39;49mget_loc(label)\n\u001b[1;32m   1090\u001b[0m \u001b[39mreturn\u001b[39;00m \u001b[39mself\u001b[39m\u001b[39m.\u001b[39mindex\u001b[39m.\u001b[39m_get_values_for_loc(\u001b[39mself\u001b[39m, loc, label)\n",
      "File \u001b[0;32m~/anaconda3/envs/pandas_env/lib/python3.8/site-packages/pandas/core/indexes/base.py:3804\u001b[0m, in \u001b[0;36mIndex.get_loc\u001b[0;34m(self, key, method, tolerance)\u001b[0m\n\u001b[1;32m   3802\u001b[0m     \u001b[39mreturn\u001b[39;00m \u001b[39mself\u001b[39m\u001b[39m.\u001b[39m_engine\u001b[39m.\u001b[39mget_loc(casted_key)\n\u001b[1;32m   3803\u001b[0m \u001b[39mexcept\u001b[39;00m \u001b[39mKeyError\u001b[39;00m \u001b[39mas\u001b[39;00m err:\n\u001b[0;32m-> 3804\u001b[0m     \u001b[39mraise\u001b[39;00m \u001b[39mKeyError\u001b[39;00m(key) \u001b[39mfrom\u001b[39;00m \u001b[39merr\u001b[39;00m\n\u001b[1;32m   3805\u001b[0m \u001b[39mexcept\u001b[39;00m \u001b[39mTypeError\u001b[39;00m:\n\u001b[1;32m   3806\u001b[0m     \u001b[39m# If we have a listlike key, _check_indexing_error will raise\u001b[39;00m\n\u001b[1;32m   3807\u001b[0m     \u001b[39m#  InvalidIndexError. Otherwise we fall through and re-raise\u001b[39;00m\n\u001b[1;32m   3808\u001b[0m     \u001b[39m#  the TypeError.\u001b[39;00m\n\u001b[1;32m   3809\u001b[0m     \u001b[39mself\u001b[39m\u001b[39m.\u001b[39m_check_indexing_error(key)\n",
      "\u001b[0;31mKeyError\u001b[0m: 'column1'"
     ]
    }
   ],
   "source": [
    "# Step 1: Define a function to concatenate the values from the desired columns\n",
    "def concatenate_columns(row):\n",
    "    return f\"{row['column1']}_{row['column2']}_{row['column3']}\"\n",
    "\n",
    "# Step 2: Use the apply() method to create the new column\n",
    "df['concatenated_column'] = df.apply(concatenate_columns, axis=1)\n",
    "\n",
    "# Display the updated DataFrame with the new column\n",
    "print(df)"
   ]
  },
  {
   "cell_type": "code",
   "execution_count": null,
   "metadata": {},
   "outputs": [],
   "source": []
  },
  {
   "cell_type": "code",
   "execution_count": null,
   "metadata": {},
   "outputs": [],
   "source": []
  },
  {
   "cell_type": "code",
   "execution_count": null,
   "metadata": {},
   "outputs": [],
   "source": [
    "mask =  (df['actor_a']  == 234) & (df['year'] == 2020) & (df['year']  == 7)  "
   ]
  },
  {
   "cell_type": "code",
   "execution_count": null,
   "metadata": {},
   "outputs": [
    {
     "data": {
      "text/html": [
       "<div>\n",
       "<style scoped>\n",
       "    .dataframe tbody tr th:only-of-type {\n",
       "        vertical-align: middle;\n",
       "    }\n",
       "\n",
       "    .dataframe tbody tr th {\n",
       "        vertical-align: top;\n",
       "    }\n",
       "\n",
       "    .dataframe thead th {\n",
       "        text-align: right;\n",
       "    }\n",
       "</style>\n",
       "<table border=\"1\" class=\"dataframe\">\n",
       "  <thead>\n",
       "    <tr style=\"text-align: right;\">\n",
       "      <th></th>\n",
       "      <th>an</th>\n",
       "      <th>copyright</th>\n",
       "      <th>subject_codes</th>\n",
       "      <th>modification_datetime</th>\n",
       "      <th>body</th>\n",
       "      <th>company_codes_occur_ticker_exchange</th>\n",
       "      <th>company_codes_occur</th>\n",
       "      <th>company_codes_about</th>\n",
       "      <th>company_codes_lineage</th>\n",
       "      <th>company_codes_ticker_exchange</th>\n",
       "      <th>...</th>\n",
       "      <th>gwcode</th>\n",
       "      <th>isoab</th>\n",
       "      <th>geoid</th>\n",
       "      <th>latitude</th>\n",
       "      <th>longitude</th>\n",
       "      <th>pg_id</th>\n",
       "      <th>name</th>\n",
       "      <th>cur_id</th>\n",
       "      <th>ner</th>\n",
       "      <th>month</th>\n",
       "    </tr>\n",
       "  </thead>\n",
       "  <tbody>\n",
       "    <tr>\n",
       "      <th>6326</th>\n",
       "      <td>AFPR000020200722eg7m00hil</td>\n",
       "      <td>Copyright Agence France-Presse, 2020 All repro...</td>\n",
       "      <td>,gdev,gmurd,gterr,gkdnap,gcat,gcns,gcrim,gdip,...</td>\n",
       "      <td>2020-07-22 20:23:06</td>\n",
       "      <td>\"It is with profound grief that we confirm the...</td>\n",
       "      <td></td>\n",
       "      <td>,iresce,bokoh,aahung,</td>\n",
       "      <td>,aqdirq,iresce,aahung,</td>\n",
       "      <td></td>\n",
       "      <td></td>\n",
       "      <td>...</td>\n",
       "      <td>475.0</td>\n",
       "      <td>NGA</td>\n",
       "      <td>25701.0</td>\n",
       "      <td>11.5</td>\n",
       "      <td>13.0</td>\n",
       "      <td>146547.0</td>\n",
       "      <td>Borno state</td>\n",
       "      <td>6326</td>\n",
       "      <td>[[some 7.9 million, CARDINAL], [IRC, ORG], [Mo...</td>\n",
       "      <td>7</td>\n",
       "    </tr>\n",
       "  </tbody>\n",
       "</table>\n",
       "<p>1 rows × 65 columns</p>\n",
       "</div>"
      ],
      "text/plain": [
       "                             an  \\\n",
       "6326  AFPR000020200722eg7m00hil   \n",
       "\n",
       "                                              copyright  \\\n",
       "6326  Copyright Agence France-Presse, 2020 All repro...   \n",
       "\n",
       "                                          subject_codes modification_datetime  \\\n",
       "6326  ,gdev,gmurd,gterr,gkdnap,gcat,gcns,gcrim,gdip,...   2020-07-22 20:23:06   \n",
       "\n",
       "                                                   body  \\\n",
       "6326  \"It is with profound grief that we confirm the...   \n",
       "\n",
       "     company_codes_occur_ticker_exchange    company_codes_occur  \\\n",
       "6326                                      ,iresce,bokoh,aahung,   \n",
       "\n",
       "         company_codes_about company_codes_lineage  \\\n",
       "6326  ,aqdirq,iresce,aahung,                         \n",
       "\n",
       "     company_codes_ticker_exchange  ... gwcode isoab    geoid latitude  \\\n",
       "6326                                ...  475.0   NGA  25701.0     11.5   \n",
       "\n",
       "     longitude     pg_id         name cur_id  \\\n",
       "6326      13.0  146547.0  Borno state   6326   \n",
       "\n",
       "                                                    ner month  \n",
       "6326  [[some 7.9 million, CARDINAL], [IRC, ORG], [Mo...     7  \n",
       "\n",
       "[1 rows x 65 columns]"
      ]
     },
     "execution_count": 39,
     "metadata": {},
     "output_type": "execute_result"
    }
   ],
   "source": [
    "df[mask]"
   ]
  },
  {
   "cell_type": "code",
   "execution_count": null,
   "metadata": {},
   "outputs": [],
   "source": []
  },
  {
   "cell_type": "code",
   "execution_count": null,
   "metadata": {},
   "outputs": [],
   "source": []
  },
  {
   "cell_type": "code",
   "execution_count": null,
   "metadata": {},
   "outputs": [
    {
     "data": {
      "text/html": [
       "<div>\n",
       "<style scoped>\n",
       "    .dataframe tbody tr th:only-of-type {\n",
       "        vertical-align: middle;\n",
       "    }\n",
       "\n",
       "    .dataframe tbody tr th {\n",
       "        vertical-align: top;\n",
       "    }\n",
       "\n",
       "    .dataframe thead th {\n",
       "        text-align: right;\n",
       "    }\n",
       "</style>\n",
       "<table border=\"1\" class=\"dataframe\">\n",
       "  <thead>\n",
       "    <tr style=\"text-align: right;\">\n",
       "      <th></th>\n",
       "      <th>an</th>\n",
       "      <th>copyright</th>\n",
       "      <th>subject_codes</th>\n",
       "      <th>modification_datetime</th>\n",
       "      <th>body</th>\n",
       "      <th>company_codes_occur_ticker_exchange</th>\n",
       "      <th>company_codes_occur</th>\n",
       "      <th>company_codes_about</th>\n",
       "      <th>company_codes_lineage</th>\n",
       "      <th>company_codes_ticker_exchange</th>\n",
       "      <th>...</th>\n",
       "      <th>gwcodeab</th>\n",
       "      <th>gwcode</th>\n",
       "      <th>isoab</th>\n",
       "      <th>geoid</th>\n",
       "      <th>latitude</th>\n",
       "      <th>longitude</th>\n",
       "      <th>pg_id</th>\n",
       "      <th>name</th>\n",
       "      <th>cur_id</th>\n",
       "      <th>ner</th>\n",
       "    </tr>\n",
       "  </thead>\n",
       "  <tbody>\n",
       "    <tr>\n",
       "      <th>0</th>\n",
       "      <td>AJAZEN0020160729ec7t000p1</td>\n",
       "      <td>Copyright 2016 Al Jazeera English.</td>\n",
       "      <td>,gkdnap,gimm,gtortu,gcat,gcom,gcrim,ghum,gpir,</td>\n",
       "      <td>2016-07-29 14:03:20</td>\n",
       "      <td>Poverty, persecution and conflict are among th...</td>\n",
       "      <td></td>\n",
       "      <td></td>\n",
       "      <td>,doctwb,</td>\n",
       "      <td></td>\n",
       "      <td></td>\n",
       "      <td>...</td>\n",
       "      <td>None</td>\n",
       "      <td>NaN</td>\n",
       "      <td>None</td>\n",
       "      <td>NaN</td>\n",
       "      <td>NaN</td>\n",
       "      <td>NaN</td>\n",
       "      <td>NaN</td>\n",
       "      <td>None</td>\n",
       "      <td>0</td>\n",
       "      <td>[[4,500, MONEY], [Endalkachew Gebrehiwot, PERS...</td>\n",
       "    </tr>\n",
       "    <tr>\n",
       "      <th>1</th>\n",
       "      <td>AJAZEN0020161002eca100009</td>\n",
       "      <td>Copyright 2016 Al Jazeera English.</td>\n",
       "      <td>,gbolly,gcat,gent,gmovie,</td>\n",
       "      <td>2016-10-02 05:01:18</td>\n",
       "      <td>Indian films made in Bollywood are being boyco...</td>\n",
       "      <td></td>\n",
       "      <td></td>\n",
       "      <td></td>\n",
       "      <td></td>\n",
       "      <td></td>\n",
       "      <td>...</td>\n",
       "      <td>None</td>\n",
       "      <td>NaN</td>\n",
       "      <td>None</td>\n",
       "      <td>NaN</td>\n",
       "      <td>NaN</td>\n",
       "      <td>NaN</td>\n",
       "      <td>NaN</td>\n",
       "      <td>None</td>\n",
       "      <td>1</td>\n",
       "      <td>[[Hazem Sika\\n\\nGuests, PERSON], [Kashmir, LOC...</td>\n",
       "    </tr>\n",
       "    <tr>\n",
       "      <th>2</th>\n",
       "      <td>AJAZEN0020161021ecal000ru</td>\n",
       "      <td>Copyright 2016 Al Jazeera English.</td>\n",
       "      <td>,ghum,gcrim,gvio,gwar,gcat,gcns,gcom,grisk,</td>\n",
       "      <td>2016-10-21 15:06:12</td>\n",
       "      <td>Zeid Ra'ad al Hussein's comments on Friday cam...</td>\n",
       "      <td></td>\n",
       "      <td>,utdnat,iccou,</td>\n",
       "      <td>,utdnat,unhrc,iccou,</td>\n",
       "      <td></td>\n",
       "      <td></td>\n",
       "      <td>...</td>\n",
       "      <td>None</td>\n",
       "      <td>NaN</td>\n",
       "      <td>None</td>\n",
       "      <td>NaN</td>\n",
       "      <td>NaN</td>\n",
       "      <td>NaN</td>\n",
       "      <td>NaN</td>\n",
       "      <td>None</td>\n",
       "      <td>2</td>\n",
       "      <td>[[Al-Mayadeen TV, ORG], [German, NORP], [82, C...</td>\n",
       "    </tr>\n",
       "    <tr>\n",
       "      <th>3</th>\n",
       "      <td>AJAZEN0020161011ecab000uo</td>\n",
       "      <td>Copyright 2016 Al Jazeera English.</td>\n",
       "      <td>,gterr,gcat,gcns,gcrim,ncat,nfact,nfcpex,</td>\n",
       "      <td>2016-10-11 14:05:04</td>\n",
       "      <td>Myth 1: ISIL emerged out of a vacuum\\n\\nDuring...</td>\n",
       "      <td></td>\n",
       "      <td></td>\n",
       "      <td>,aqdirq,</td>\n",
       "      <td></td>\n",
       "      <td></td>\n",
       "      <td>...</td>\n",
       "      <td>None</td>\n",
       "      <td>NaN</td>\n",
       "      <td>None</td>\n",
       "      <td>NaN</td>\n",
       "      <td>NaN</td>\n",
       "      <td>NaN</td>\n",
       "      <td>NaN</td>\n",
       "      <td>None</td>\n",
       "      <td>3</td>\n",
       "      <td>[[Abu Sayyaf, PERSON], [2, CARDINAL], [Iran, G...</td>\n",
       "    </tr>\n",
       "    <tr>\n",
       "      <th>4</th>\n",
       "      <td>AJAZEN0020160909ec99000dx</td>\n",
       "      <td>Copyright 2016 Al Jazeera English.</td>\n",
       "      <td>,gexplo,gcat,gdis,gmmdis,</td>\n",
       "      <td>2016-09-09 08:06:17</td>\n",
       "      <td>An earthquake with a magnitude of 5.3 was dete...</td>\n",
       "      <td></td>\n",
       "      <td>,usglsy,unscou,jpmtag,</td>\n",
       "      <td>,usglsy,unscou,</td>\n",
       "      <td></td>\n",
       "      <td></td>\n",
       "      <td>...</td>\n",
       "      <td>None</td>\n",
       "      <td>NaN</td>\n",
       "      <td>None</td>\n",
       "      <td>NaN</td>\n",
       "      <td>NaN</td>\n",
       "      <td>NaN</td>\n",
       "      <td>NaN</td>\n",
       "      <td>None</td>\n",
       "      <td>4</td>\n",
       "      <td>[[Meteorological Agency's, ORG], [January, DAT...</td>\n",
       "    </tr>\n",
       "  </tbody>\n",
       "</table>\n",
       "<p>5 rows × 64 columns</p>\n",
       "</div>"
      ],
      "text/plain": [
       "                          an                            copyright  \\\n",
       "0  AJAZEN0020160729ec7t000p1  Copyright 2016 Al Jazeera English.    \n",
       "1  AJAZEN0020161002eca100009  Copyright 2016 Al Jazeera English.    \n",
       "2  AJAZEN0020161021ecal000ru  Copyright 2016 Al Jazeera English.    \n",
       "3  AJAZEN0020161011ecab000uo  Copyright 2016 Al Jazeera English.    \n",
       "4  AJAZEN0020160909ec99000dx  Copyright 2016 Al Jazeera English.    \n",
       "\n",
       "                                    subject_codes modification_datetime  \\\n",
       "0  ,gkdnap,gimm,gtortu,gcat,gcom,gcrim,ghum,gpir,   2016-07-29 14:03:20   \n",
       "1                       ,gbolly,gcat,gent,gmovie,   2016-10-02 05:01:18   \n",
       "2     ,ghum,gcrim,gvio,gwar,gcat,gcns,gcom,grisk,   2016-10-21 15:06:12   \n",
       "3       ,gterr,gcat,gcns,gcrim,ncat,nfact,nfcpex,   2016-10-11 14:05:04   \n",
       "4                       ,gexplo,gcat,gdis,gmmdis,   2016-09-09 08:06:17   \n",
       "\n",
       "                                                body  \\\n",
       "0  Poverty, persecution and conflict are among th...   \n",
       "1  Indian films made in Bollywood are being boyco...   \n",
       "2  Zeid Ra'ad al Hussein's comments on Friday cam...   \n",
       "3  Myth 1: ISIL emerged out of a vacuum\\n\\nDuring...   \n",
       "4  An earthquake with a magnitude of 5.3 was dete...   \n",
       "\n",
       "  company_codes_occur_ticker_exchange     company_codes_occur  \\\n",
       "0                                                               \n",
       "1                                                               \n",
       "2                                              ,utdnat,iccou,   \n",
       "3                                                               \n",
       "4                                      ,usglsy,unscou,jpmtag,   \n",
       "\n",
       "    company_codes_about company_codes_lineage company_codes_ticker_exchange  \\\n",
       "0              ,doctwb,                                                       \n",
       "1                                                                             \n",
       "2  ,utdnat,unhrc,iccou,                                                       \n",
       "3              ,aqdirq,                                                       \n",
       "4       ,usglsy,unscou,                                                       \n",
       "\n",
       "   ... gwcodeab gwcode isoab geoid latitude longitude pg_id  name cur_id  \\\n",
       "0  ...     None    NaN  None   NaN      NaN       NaN   NaN  None      0   \n",
       "1  ...     None    NaN  None   NaN      NaN       NaN   NaN  None      1   \n",
       "2  ...     None    NaN  None   NaN      NaN       NaN   NaN  None      2   \n",
       "3  ...     None    NaN  None   NaN      NaN       NaN   NaN  None      3   \n",
       "4  ...     None    NaN  None   NaN      NaN       NaN   NaN  None      4   \n",
       "\n",
       "                                                 ner  \n",
       "0  [[4,500, MONEY], [Endalkachew Gebrehiwot, PERS...  \n",
       "1  [[Hazem Sika\\n\\nGuests, PERSON], [Kashmir, LOC...  \n",
       "2  [[Al-Mayadeen TV, ORG], [German, NORP], [82, C...  \n",
       "3  [[Abu Sayyaf, PERSON], [2, CARDINAL], [Iran, G...  \n",
       "4  [[Meteorological Agency's, ORG], [January, DAT...  \n",
       "\n",
       "[5 rows x 64 columns]"
      ]
     },
     "execution_count": 3,
     "metadata": {},
     "output_type": "execute_result"
    }
   ],
   "source": [
    "df.head()"
   ]
  },
  {
   "cell_type": "code",
   "execution_count": null,
   "metadata": {},
   "outputs": [
    {
     "data": {
      "text/plain": [
       "Index(['an', 'copyright', 'subject_codes', 'modification_datetime', 'body',\n",
       "       'company_codes_occur_ticker_exchange', 'company_codes_occur',\n",
       "       'company_codes_about', 'company_codes_lineage',\n",
       "       'company_codes_ticker_exchange', 'snippet',\n",
       "       'company_codes_relevance_ticker_exchange', 'market_index_codes',\n",
       "       'section', 'company_codes_association_ticker_exchange',\n",
       "       'currency_codes', 'company_codes_about_ticker_exchange',\n",
       "       'region_of_origin', 'company_codes_lineage_ticker_exchange',\n",
       "       'ingestion_datetime', 'availability_datetime', 'modification_date',\n",
       "       'source_name', 'language_code', 'region_codes',\n",
       "       'company_codes_association', 'person_codes', 'byline', 'dateline',\n",
       "       'company_codes_relevance', 'source_code', 'word_count', 'company_codes',\n",
       "       'industry_codes', 'title', 'publication_datetime', 'publisher_name',\n",
       "       'action', 'base_name', 'an_wide', 'ged_id', 'what', 'date_end', 'year',\n",
       "       'best', 'high', 'deaths_a', 'deaths_b', 'geoprecision_id', 'tv',\n",
       "       'dyad_id', 'actor_a', 'actor_b', 'country_name', 'gwcodeab', 'gwcode',\n",
       "       'isoab', 'geoid', 'latitude', 'longitude', 'pg_id', 'name', 'cur_id',\n",
       "       'ner'],\n",
       "      dtype='object')"
      ]
     },
     "execution_count": 21,
     "metadata": {},
     "output_type": "execute_result"
    }
   ],
   "source": [
    "df.columns"
   ]
  },
  {
   "cell_type": "code",
   "execution_count": null,
   "metadata": {},
   "outputs": [
    {
     "data": {
      "text/plain": [
       "0      2016-07-29 00:00:00\n",
       "1      2016-10-01 00:00:00\n",
       "2      2016-10-21 00:00:00\n",
       "3      2016-10-11 00:00:00\n",
       "4      2016-09-09 00:00:00\n",
       "               ...        \n",
       "9995   2015-05-19 17:03:20\n",
       "9996   2015-08-18 08:33:09\n",
       "9997   2015-03-24 11:42:58\n",
       "9998   2015-02-12 12:21:31\n",
       "9999   2015-10-21 10:47:15\n",
       "Name: publication_datetime, Length: 10000, dtype: datetime64[ns]"
      ]
     },
     "execution_count": 20,
     "metadata": {},
     "output_type": "execute_result"
    }
   ],
   "source": [
    "df['publication_datetime']"
   ]
  },
  {
   "cell_type": "code",
   "execution_count": null,
   "metadata": {},
   "outputs": [],
   "source": [
    "234\n",
    "# Assuming your DataFrame is already loaded into the variable df\n",
    "# and the date_time_column is of pandas datetime type\n",
    "\n",
    "# Step 1: Extract the month from the date_time_column\n",
    "df['month'] = df['date_time_column'].dt.month\n",
    "\n",
    "# Step 2: Filter the DataFrame for the specific month you want (e.g., month = 7 for July)\n",
    "target_month = 7\n",
    "df_specific_month = df[df['month'] == target_month]"
   ]
  },
  {
   "cell_type": "code",
   "execution_count": null,
   "metadata": {},
   "outputs": [
    {
     "data": {
      "text/plain": [
       "array([  nan,  234., 3740.,   95., 3714.,   91.,   84., 3736., 3753.,\n",
       "       3672.,   10.,  116.,   89.,  154.,  115.,  111., 7523.,  114.,\n",
       "        112.,  130.,   72.,  209.,   83., 8218.,  145., 7542.,  121.,\n",
       "         21.,   87.,   93., 3698., 3596.,  142., 1146., 5802., 1012.,\n",
       "        123., 3635.,  881.,  138., 3633.,   75., 7463., 3671.,   97.,\n",
       "         64., 3680., 8041., 3621.,  109.,  118.,  110.,  117., 1089.,\n",
       "         17., 3630., 3762., 3764., 6371., 3695.,  100., 3659.])"
      ]
     },
     "execution_count": 4,
     "metadata": {},
     "output_type": "execute_result"
    }
   ],
   "source": [
    "df['actor_a'].unique()"
   ]
  },
  {
   "cell_type": "code",
   "execution_count": null,
   "metadata": {},
   "outputs": [
    {
     "data": {
      "text/plain": [
       "array([      nan, 1.000e+00, 3.740e+03, 7.170e+02, 3.714e+03, 2.340e+02,\n",
       "       3.736e+03, 3.753e+03, 1.151e+03, 5.610e+02, 2.760e+02, 3.230e+02,\n",
       "       6.689e+03, 6.288e+03, 3.090e+02, 7.553e+03, 3.030e+02, 7.332e+03,\n",
       "       2.430e+02, 8.358e+03, 2.080e+02, 7.500e+02, 3.698e+03, 3.596e+03,\n",
       "       3.560e+02, 1.051e+03, 1.158e+03, 5.802e+03, 9.930e+02, 6.254e+03,\n",
       "       3.635e+03, 3.633e+03, 1.210e+02, 6.716e+03, 6.534e+03, 2.090e+02,\n",
       "       2.070e+02, 7.463e+03, 3.671e+03, 4.100e+02, 3.380e+02, 3.680e+03,\n",
       "       1.160e+03, 2.020e+02, 3.621e+03, 5.390e+02, 4.456e+03, 6.844e+03,\n",
       "       7.750e+02, 7.440e+02, 7.528e+03, 7.517e+03, 3.762e+03, 3.695e+03,\n",
       "       1.123e+03])"
      ]
     },
     "execution_count": 5,
     "metadata": {},
     "output_type": "execute_result"
    }
   ],
   "source": [
    "df['actor_b'].unique()"
   ]
  },
  {
   "cell_type": "code",
   "execution_count": null,
   "metadata": {},
   "outputs": [
    {
     "data": {
      "text/plain": [
       "0       ASIA GULFST MEASTZ QATAR WASIAZ \n",
       "1       ASIA GULFST MEASTZ QATAR WASIAZ \n",
       "2       ASIA GULFST MEASTZ QATAR WASIAZ \n",
       "3       ASIA GULFST MEASTZ QATAR WASIAZ \n",
       "4       ASIA GULFST MEASTZ QATAR WASIAZ \n",
       "                      ...               \n",
       "9995                 AFRICA SAFR SOUAFR \n",
       "9996                 AFRICA SAFR SOUAFR \n",
       "9997                 AFRICA SAFR SOUAFR \n",
       "9998                 AFRICA SAFR SOUAFR \n",
       "9999                 AFRICA SAFR SOUAFR \n",
       "Name: region_of_origin, Length: 10000, dtype: object"
      ]
     },
     "execution_count": 6,
     "metadata": {},
     "output_type": "execute_result"
    }
   ],
   "source": [
    "df['region_of_origin']"
   ]
  },
  {
   "cell_type": "code",
   "execution_count": null,
   "metadata": {},
   "outputs": [
    {
     "data": {
      "text/plain": [
       "1025    0.0\n",
       "1029    1.0\n",
       "1035    0.0\n",
       "1122    0.0\n",
       "1225    0.0\n",
       "       ... \n",
       "9625    0.0\n",
       "9664    0.0\n",
       "9665    1.0\n",
       "9793    0.0\n",
       "9999    0.0\n",
       "Name: deaths_a, Length: 221, dtype: float64"
      ]
     },
     "execution_count": 7,
     "metadata": {},
     "output_type": "execute_result"
    }
   ],
   "source": [
    "df[df['actor_a'].notna()]['deaths_a']"
   ]
  },
  {
   "cell_type": "code",
   "execution_count": null,
   "metadata": {},
   "outputs": [
    {
     "data": {
      "text/plain": [
       "1025    0.0\n",
       "1029    0.0\n",
       "1035    0.0\n",
       "1122    3.0\n",
       "1225    6.0\n",
       "       ... \n",
       "9625    0.0\n",
       "9664    0.0\n",
       "9665    1.0\n",
       "9793    1.0\n",
       "9999    3.0\n",
       "Name: deaths_b, Length: 221, dtype: float64"
      ]
     },
     "execution_count": 8,
     "metadata": {},
     "output_type": "execute_result"
    }
   ],
   "source": [
    "df[df['actor_b'].notna()]['deaths_b']"
   ]
  },
  {
   "cell_type": "code",
   "execution_count": null,
   "metadata": {},
   "outputs": [
    {
     "data": {
      "text/plain": [
       "1025     234.0\n",
       "1029    3740.0\n",
       "1035      95.0\n",
       "1122    3714.0\n",
       "1225      95.0\n",
       "         ...  \n",
       "9625    3740.0\n",
       "9664      95.0\n",
       "9665     112.0\n",
       "9793     109.0\n",
       "9999     109.0\n",
       "Name: actor_a, Length: 221, dtype: float64"
      ]
     },
     "execution_count": 9,
     "metadata": {},
     "output_type": "execute_result"
    }
   ],
   "source": [
    "df[df['actor_a'].notna()]['actor_a']"
   ]
  },
  {
   "cell_type": "code",
   "execution_count": null,
   "metadata": {},
   "outputs": [
    {
     "data": {
      "text/plain": [
       "1025       1.0\n",
       "1029    3740.0\n",
       "1035     717.0\n",
       "1122    3714.0\n",
       "1225     717.0\n",
       "         ...  \n",
       "9625    3740.0\n",
       "9664     717.0\n",
       "9665    1123.0\n",
       "9793     539.0\n",
       "9999     539.0\n",
       "Name: actor_b, Length: 221, dtype: float64"
      ]
     },
     "execution_count": 10,
     "metadata": {},
     "output_type": "execute_result"
    }
   ],
   "source": [
    "df[df['actor_b'].notna()]['actor_b']"
   ]
  },
  {
   "cell_type": "code",
   "execution_count": null,
   "metadata": {},
   "outputs": [
    {
     "data": {
      "text/plain": [
       "0       [[4,500, MONEY], [Endalkachew Gebrehiwot, PERS...\n",
       "1       [[Hazem Sika\\n\\nGuests, PERSON], [Kashmir, LOC...\n",
       "2       [[Al-Mayadeen TV, ORG], [German, NORP], [82, C...\n",
       "3       [[Abu Sayyaf, PERSON], [2, CARDINAL], [Iran, G...\n",
       "4       [[Meteorological Agency's, ORG], [January, DAT...\n",
       "                              ...                        \n",
       "9995    [[Liberia, GPE], [Joseph N. Boakai, PERSON], [...\n",
       "9996    [[Nyeri, ORG], [two, CARDINAL], [G.K. King'ong...\n",
       "9997    [[Kilo4.5, PERSON], [two, CARDINAL], [the civi...\n",
       "9998    [[Sunday, DATE], [last week, DATE], [Tuesday, ...\n",
       "9999    [[three, CARDINAL], [Oct 21, 2015, DATE], [3, ...\n",
       "Name: ner, Length: 10000, dtype: object"
      ]
     },
     "execution_count": 11,
     "metadata": {},
     "output_type": "execute_result"
    }
   ],
   "source": [
    "df['ner']"
   ]
  },
  {
   "cell_type": "code",
   "execution_count": null,
   "metadata": {},
   "outputs": [
    {
     "data": {
      "text/plain": [
       "'Poverty, persecution and conflict are among the reasons refugees were forced to flee their homelands. By the time they were rescued from sinking boats on the Mediterranean Sea, they had another more urgent motive: escape from Libya. Endalkachew Gebrehiwot, a refugee, told Al Jazeera that during the 10 months he was in Libya, human smugglers had kidnapped him twice. Unable to pay a $4,500 ransom, he said the smugglers forced him to work and whipped him every day with electrical cable. \"It is the will of God, that I survived. You don\\'t expect to survive that concentration camp,\" he said. Kim Clausen, from the Doctors Without Borders organisation, described the conditions in Libya as \"horrible\". \"Right now, [what\\'s] going on in Libya, it\\'s what we\\'d call slave trading, it\\'s forced prostitution, mass rapes. It\\'s torture. It\\'s kidnapping for ransom by the smugglers and they sell the refugees.\" Endalkachew said the situation was so bad, he would rather \"die at sea\" than remain in Libya. Al Jazeera'"
      ]
     },
     "execution_count": 12,
     "metadata": {},
     "output_type": "execute_result"
    }
   ],
   "source": [
    "df['body'][0]"
   ]
  },
  {
   "cell_type": "code",
   "execution_count": null,
   "metadata": {},
   "outputs": [
    {
     "data": {
      "text/plain": [
       "'Rescued at sea, refugees are subject to kidnapping, torture and rape in Libya, according to Doctors Without Borders.'"
      ]
     },
     "execution_count": 13,
     "metadata": {},
     "output_type": "execute_result"
    }
   ],
   "source": [
    "df['snippet'][0]"
   ]
  },
  {
   "cell_type": "code",
   "execution_count": null,
   "metadata": {},
   "outputs": [],
   "source": []
  },
  {
   "cell_type": "code",
   "execution_count": null,
   "metadata": {},
   "outputs": [],
   "source": []
  }
 ],
 "metadata": {
  "kernelspec": {
   "display_name": "base",
   "language": "python",
   "name": "python3"
  },
  "language_info": {
   "codemirror_mode": {
    "name": "ipython",
    "version": 3
   },
   "file_extension": ".py",
   "mimetype": "text/x-python",
   "name": "python",
   "nbconvert_exporter": "python",
   "pygments_lexer": "ipython3",
   "version": "3.8.17"
  },
  "orig_nbformat": 4
 },
 "nbformat": 4,
 "nbformat_minor": 2
}
